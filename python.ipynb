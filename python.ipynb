{
  "nbformat": 4,
  "nbformat_minor": 0,
  "metadata": {
    "colab": {
      "provenance": [],
      "include_colab_link": true
    },
    "kernelspec": {
      "name": "python3",
      "display_name": "Python 3"
    },
    "language_info": {
      "name": "python"
    }
  },
  "cells": [
    {
      "cell_type": "markdown",
      "metadata": {
        "id": "view-in-github",
        "colab_type": "text"
      },
      "source": [
        "<a href=\"https://colab.research.google.com/github/VishalShende358/Library-managment-system/blob/main/python.ipynb\" target=\"_parent\"><img src=\"https://colab.research.google.com/assets/colab-badge.svg\" alt=\"Open In Colab\"/></a>"
      ]
    },
    {
      "cell_type": "code",
      "execution_count": null,
      "metadata": {
        "id": "Qt-7yHDhz6Ho"
      },
      "outputs": [],
      "source": []
    },
    {
      "cell_type": "markdown",
      "metadata": {
        "id": "UhmgnA67JbOo"
      },
      "source": [
        "## Data types in python\n",
        "\n",
        "Python is a dynamically typed language, which means you don't need to declare the data type of a variable when you create it; Python will determine the data type dynamically at runtime. However, Python has several built-in data types that you can use to store and manipulate different kinds of data. Here are some of the most common data types in Python:\n",
        "\n",
        "* ### Numeric  - Numeric variables take values which are numbers like 9, 3.14, 0, Inf\n",
        "\n",
        "\n",
        "* ### String   - 'hello',\"hello\"\n",
        "\n",
        "\n",
        "* ### Boolean  - True, False\n",
        "\n",
        "\n",
        "* ### Datetime  - 2023-08-05 08:21:04"
      ]
    },
    {
      "cell_type": "code",
      "source": [
        "a = 100\n",
        "type(a)"
      ],
      "metadata": {
        "colab": {
          "base_uri": "https://localhost:8080/"
        },
        "id": "FDJI4urz0K7P",
        "outputId": "cc9dad1a-fe6a-4f94-afb2-079ceb1f88c9"
      },
      "execution_count": null,
      "outputs": [
        {
          "output_type": "execute_result",
          "data": {
            "text/plain": [
              "int"
            ]
          },
          "metadata": {},
          "execution_count": 1
        }
      ]
    },
    {
      "cell_type": "code",
      "source": [
        "a = 100.0\n",
        "type(a)"
      ],
      "metadata": {
        "colab": {
          "base_uri": "https://localhost:8080/"
        },
        "id": "qRbtOBbw0RXS",
        "outputId": "6f4f1289-d788-44bf-aae7-5fedc13e466b"
      },
      "execution_count": null,
      "outputs": [
        {
          "output_type": "execute_result",
          "data": {
            "text/plain": [
              "float"
            ]
          },
          "metadata": {},
          "execution_count": 2
        }
      ]
    },
    {
      "cell_type": "code",
      "source": [
        "a = True\n",
        "type(a)"
      ],
      "metadata": {
        "colab": {
          "base_uri": "https://localhost:8080/"
        },
        "id": "xjKr1ICJ0UEe",
        "outputId": "fc7a4d2a-c019-426c-c075-42495b3c2df3"
      },
      "execution_count": null,
      "outputs": [
        {
          "output_type": "execute_result",
          "data": {
            "text/plain": [
              "bool"
            ]
          },
          "metadata": {},
          "execution_count": 3
        }
      ]
    },
    {
      "cell_type": "code",
      "source": [
        "a = 'hello'\n",
        "type(a)"
      ],
      "metadata": {
        "colab": {
          "base_uri": "https://localhost:8080/"
        },
        "id": "eCwYejle0Xn9",
        "outputId": "99f1f14c-aa21-487b-af28-627f380436f3"
      },
      "execution_count": null,
      "outputs": [
        {
          "output_type": "execute_result",
          "data": {
            "text/plain": [
              "str"
            ]
          },
          "metadata": {},
          "execution_count": 4
        }
      ]
    },
    {
      "cell_type": "code",
      "source": [
        "a = 'mohit'\n",
        "b = 'singh'"
      ],
      "metadata": {
        "id": "DBghwxZp0bgI"
      },
      "execution_count": null,
      "outputs": []
    },
    {
      "cell_type": "code",
      "source": [
        "c = a+' '+b\n",
        "print(c)"
      ],
      "metadata": {
        "colab": {
          "base_uri": "https://localhost:8080/"
        },
        "id": "0Hw7FQpz0k27",
        "outputId": "a6eb67e4-ef07-419d-98ae-552a14e2400f"
      },
      "execution_count": null,
      "outputs": [
        {
          "output_type": "stream",
          "name": "stdout",
          "text": [
            "mohit singh\n"
          ]
        }
      ]
    },
    {
      "cell_type": "code",
      "source": [],
      "metadata": {
        "id": "hBRol6Sm0nsQ"
      },
      "execution_count": null,
      "outputs": []
    },
    {
      "cell_type": "markdown",
      "metadata": {
        "id": "vlVtl911mr1D"
      },
      "source": [
        "## Playing with strings"
      ]
    },
    {
      "cell_type": "markdown",
      "metadata": {
        "id": "vjXDmhwLmr1D"
      },
      "source": [
        "* We can also use a function called <code>len()</code> to check the length of a string!"
      ]
    },
    {
      "cell_type": "code",
      "source": [
        "a = 'Playing with strings'\n",
        "print(len(a))"
      ],
      "metadata": {
        "colab": {
          "base_uri": "https://localhost:8080/"
        },
        "id": "OGz8JENB014L",
        "outputId": "535ce59a-9a90-4da7-b13f-0d7db6efe665"
      },
      "execution_count": null,
      "outputs": [
        {
          "output_type": "stream",
          "name": "stdout",
          "text": [
            "20\n"
          ]
        }
      ]
    },
    {
      "cell_type": "code",
      "source": [
        "a = 'Playing with strings '\n",
        "print(len(a))"
      ],
      "metadata": {
        "colab": {
          "base_uri": "https://localhost:8080/"
        },
        "id": "Id6g3OEh1H6f",
        "outputId": "27a492fe-00b5-45e4-cb5f-77e9227cfe3c"
      },
      "execution_count": null,
      "outputs": [
        {
          "output_type": "stream",
          "name": "stdout",
          "text": [
            "21\n"
          ]
        }
      ]
    },
    {
      "cell_type": "code",
      "source": [],
      "metadata": {
        "id": "T1N8R4XX1MWv"
      },
      "execution_count": null,
      "outputs": []
    },
    {
      "cell_type": "markdown",
      "metadata": {
        "id": "6XqIFlaYmr1H"
      },
      "source": [
        "### <u> String Indexing </u>\n",
        "\n",
        "* We know strings are a sequence, which means Python can use indexes to call parts of the sequence.\n",
        "\n",
        "\n",
        "* A string index refers to the location of an element present in a string.\n",
        "\n",
        "\n",
        "* The indexing begins from 0 in Python.\n",
        "\n",
        "\n",
        "* The first element is assigned an index 0, the second element is assigned an index of 1 and so on and so forth.\n",
        "\n",
        "\n",
        "* In Python, we use brackets <code>[]</code> after an object to call its index."
      ]
    },
    {
      "cell_type": "code",
      "source": [
        "a = 'String Indexing'\n",
        "print(a[0])\n",
        "print(a[3])"
      ],
      "metadata": {
        "colab": {
          "base_uri": "https://localhost:8080/"
        },
        "id": "fmWUNmqc1Nkv",
        "outputId": "edc21490-a95c-4e35-be77-b0d2daa16732"
      },
      "execution_count": null,
      "outputs": [
        {
          "output_type": "stream",
          "name": "stdout",
          "text": [
            "S\n",
            "i\n"
          ]
        }
      ]
    },
    {
      "cell_type": "code",
      "source": [
        "print(a[-1])"
      ],
      "metadata": {
        "colab": {
          "base_uri": "https://localhost:8080/"
        },
        "id": "nQNPDJkN1dl_",
        "outputId": "da73d19b-19c8-4cbb-8f6a-a2796ddaa2ba"
      },
      "execution_count": null,
      "outputs": [
        {
          "output_type": "stream",
          "name": "stdout",
          "text": [
            "g\n"
          ]
        }
      ]
    },
    {
      "cell_type": "code",
      "source": [],
      "metadata": {
        "id": "BWLPNlCY2ATo"
      },
      "execution_count": null,
      "outputs": []
    },
    {
      "cell_type": "markdown",
      "metadata": {
        "id": "EhEAYjRnmr1U"
      },
      "source": [
        "### String Slicing"
      ]
    },
    {
      "cell_type": "markdown",
      "metadata": {
        "id": "3h7kltimmr1V"
      },
      "source": [
        "* We can use a <code>:</code> to perform *slicing* which grabs everything up to a designated point.\n",
        "\n",
        "\n",
        "* The starting index is specified on the left of the <code>:</code> and the ending index is specified on the right of the <code>:</code>.\n",
        "\n",
        "\n",
        "* Remember the element located at the right index is not included."
      ]
    },
    {
      "cell_type": "code",
      "source": [
        "a = 'String Slicing'\n",
        "\n",
        "print(a[1:6])"
      ],
      "metadata": {
        "colab": {
          "base_uri": "https://localhost:8080/"
        },
        "id": "KA1WQHfw2BQk",
        "outputId": "472b2130-0339-4988-c7df-362fbca7c029"
      },
      "execution_count": null,
      "outputs": [
        {
          "output_type": "stream",
          "name": "stdout",
          "text": [
            "tring\n"
          ]
        }
      ]
    },
    {
      "cell_type": "code",
      "source": [
        "print(a[1:7])"
      ],
      "metadata": {
        "colab": {
          "base_uri": "https://localhost:8080/"
        },
        "id": "4KknPeyw2TBE",
        "outputId": "2ddfc08b-8158-4aa9-e29d-22a23bfb4fd2"
      },
      "execution_count": null,
      "outputs": [
        {
          "output_type": "stream",
          "name": "stdout",
          "text": [
            "tring \n"
          ]
        }
      ]
    },
    {
      "cell_type": "code",
      "source": [
        "print(a[-7:-1])"
      ],
      "metadata": {
        "colab": {
          "base_uri": "https://localhost:8080/"
        },
        "id": "wbvVTXFo2WY3",
        "outputId": "08282d43-b60a-4e54-abc2-a661a162f7fa"
      },
      "execution_count": null,
      "outputs": [
        {
          "output_type": "stream",
          "name": "stdout",
          "text": [
            "Slicin\n"
          ]
        }
      ]
    },
    {
      "cell_type": "code",
      "source": [
        "print(a[1:7:2])"
      ],
      "metadata": {
        "colab": {
          "base_uri": "https://localhost:8080/"
        },
        "id": "hE4JBS0m3eeV",
        "outputId": "ea3ab683-24fa-4ce6-b1e4-dc041c50dfc5"
      },
      "execution_count": null,
      "outputs": [
        {
          "output_type": "stream",
          "name": "stdout",
          "text": [
            "tig\n"
          ]
        }
      ]
    },
    {
      "cell_type": "code",
      "source": [
        "print(a[::-1])"
      ],
      "metadata": {
        "colab": {
          "base_uri": "https://localhost:8080/"
        },
        "id": "8qkCN6Xo210Z",
        "outputId": "97fec29f-ee98-4511-9cb6-e4c3f5d25372"
      },
      "execution_count": null,
      "outputs": [
        {
          "output_type": "stream",
          "name": "stdout",
          "text": [
            "gnicilS gnirtS\n"
          ]
        }
      ]
    },
    {
      "cell_type": "code",
      "source": [],
      "metadata": {
        "id": "EgL37XrF24-U"
      },
      "execution_count": null,
      "outputs": []
    },
    {
      "cell_type": "markdown",
      "metadata": {
        "id": "cF2zYtzdmr2G"
      },
      "source": [
        "###  <code>lower()</code>\n",
        "\n",
        "* <code>lower()</code> method converts the string to lowercase"
      ]
    },
    {
      "cell_type": "code",
      "source": [
        "a = 'ABHISHEK'\n",
        "\n",
        "print(a.lower())"
      ],
      "metadata": {
        "colab": {
          "base_uri": "https://localhost:8080/"
        },
        "id": "t5QY0Hhw37L6",
        "outputId": "9c35f54c-8237-4dc2-afc3-b0bfe0c95536"
      },
      "execution_count": null,
      "outputs": [
        {
          "output_type": "stream",
          "name": "stdout",
          "text": [
            "abhishek\n"
          ]
        }
      ]
    },
    {
      "cell_type": "code",
      "source": [
        "a = 1\n",
        "b = 2\n",
        "\n",
        "a+b"
      ],
      "metadata": {
        "colab": {
          "base_uri": "https://localhost:8080/"
        },
        "id": "OlFiXz0R4CH4",
        "outputId": "3f86146f-e083-48c0-c73e-480d9d384b3c"
      },
      "execution_count": null,
      "outputs": [
        {
          "output_type": "execute_result",
          "data": {
            "text/plain": [
              "3"
            ]
          },
          "metadata": {},
          "execution_count": 22
        }
      ]
    },
    {
      "cell_type": "code",
      "source": [
        "a = 'AZbc12'\n",
        "a.lower()"
      ],
      "metadata": {
        "colab": {
          "base_uri": "https://localhost:8080/",
          "height": 35
        },
        "id": "o_f7hsit4asT",
        "outputId": "2ab74876-925c-45b7-d948-54ffe14ba859"
      },
      "execution_count": null,
      "outputs": [
        {
          "output_type": "execute_result",
          "data": {
            "text/plain": [
              "'azbc12'"
            ],
            "application/vnd.google.colaboratory.intrinsic+json": {
              "type": "string"
            }
          },
          "metadata": {},
          "execution_count": 26
        }
      ]
    },
    {
      "cell_type": "markdown",
      "metadata": {
        "id": "Uk9EwCKRmr2L"
      },
      "source": [
        "###  <code>upper()</code>\n",
        "\n",
        "* <code>upper()</code> method converts the string to uppercase"
      ]
    },
    {
      "cell_type": "code",
      "source": [
        "a = 'AZbc12'\n",
        "a.upper()"
      ],
      "metadata": {
        "colab": {
          "base_uri": "https://localhost:8080/",
          "height": 35
        },
        "id": "64HjntUI4m4F",
        "outputId": "523ec70c-43df-42dd-f872-06da574f2ae6"
      },
      "execution_count": null,
      "outputs": [
        {
          "output_type": "execute_result",
          "data": {
            "text/plain": [
              "'AZBC12'"
            ],
            "application/vnd.google.colaboratory.intrinsic+json": {
              "type": "string"
            }
          },
          "metadata": {},
          "execution_count": 27
        }
      ]
    },
    {
      "cell_type": "code",
      "source": [],
      "metadata": {
        "id": "xrTzxQh14pwf"
      },
      "execution_count": null,
      "outputs": []
    },
    {
      "cell_type": "markdown",
      "metadata": {
        "id": "ikQx6g8tmr2P"
      },
      "source": [
        "### <code>count()</code>\n",
        "\n",
        "*  <code>count()</code> method returns the count of a string in the given string. Unlike <code>lower()</code> and <code>upper()</code> method, the <code>count()</code> method takes a string as an argument"
      ]
    },
    {
      "cell_type": "code",
      "source": [
        "a = 'abcda'\n",
        "\n",
        "print(a.count('a'))"
      ],
      "metadata": {
        "colab": {
          "base_uri": "https://localhost:8080/"
        },
        "id": "J2mCmCzx4uQy",
        "outputId": "5ec99b5a-4c30-43c0-8391-b27f28b83de9"
      },
      "execution_count": null,
      "outputs": [
        {
          "output_type": "stream",
          "name": "stdout",
          "text": [
            "2\n"
          ]
        }
      ]
    },
    {
      "cell_type": "code",
      "source": [
        "print(a.count('d'))"
      ],
      "metadata": {
        "colab": {
          "base_uri": "https://localhost:8080/"
        },
        "id": "j37ThPn740N2",
        "outputId": "d03b7a22-91a3-4eb2-dc39-94dc9e4e3d2a"
      },
      "execution_count": null,
      "outputs": [
        {
          "output_type": "stream",
          "name": "stdout",
          "text": [
            "1\n"
          ]
        }
      ]
    },
    {
      "cell_type": "code",
      "source": [],
      "metadata": {
        "id": "gHF8T4fO445d"
      },
      "execution_count": null,
      "outputs": []
    },
    {
      "cell_type": "markdown",
      "metadata": {
        "id": "YPKnWGBFmr2k"
      },
      "source": [
        "### <code>find()</code>\n",
        "\n",
        "* <code>find()</code> method returns the index of the first occurrence of a string present in a given string. Similar to the <code>count()</code> method, the <code>find()</code> method takes a string as an argument"
      ]
    },
    {
      "cell_type": "code",
      "source": [
        "a = 'abcde'\n",
        "\n",
        "print(a.find('a'))"
      ],
      "metadata": {
        "colab": {
          "base_uri": "https://localhost:8080/"
        },
        "id": "5nRfMvxa46Wp",
        "outputId": "4a680cdd-c171-49d3-ed67-e4ee8affb5d1"
      },
      "execution_count": null,
      "outputs": [
        {
          "output_type": "stream",
          "name": "stdout",
          "text": [
            "0\n"
          ]
        }
      ]
    },
    {
      "cell_type": "code",
      "source": [
        "print(a.find('c'))"
      ],
      "metadata": {
        "colab": {
          "base_uri": "https://localhost:8080/"
        },
        "id": "_wXXAkUI5Bd-",
        "outputId": "cef04883-caa4-42d9-dc4f-e31df12ade7f"
      },
      "execution_count": null,
      "outputs": [
        {
          "output_type": "stream",
          "name": "stdout",
          "text": [
            "2\n"
          ]
        }
      ]
    },
    {
      "cell_type": "code",
      "source": [],
      "metadata": {
        "id": "_fJzHljv5CaX"
      },
      "execution_count": null,
      "outputs": []
    },
    {
      "cell_type": "markdown",
      "metadata": {
        "id": "-Q_dsma-mr2t"
      },
      "source": [
        "### <code>replace()</code>\n",
        "\n",
        "*  <code>replace()</code> method takes two arguments - (i) the string to replace and (ii) the string to replace with, and returns a modified string after the operation"
      ]
    },
    {
      "cell_type": "code",
      "source": [
        "a = 'abcde'\n",
        "\n",
        "print(a.replace('a', 'z'))"
      ],
      "metadata": {
        "colab": {
          "base_uri": "https://localhost:8080/"
        },
        "id": "Mn_oyH_Z5Nu7",
        "outputId": "65333428-0852-49f2-acd2-de944758c322"
      },
      "execution_count": null,
      "outputs": [
        {
          "output_type": "stream",
          "name": "stdout",
          "text": [
            "zbcde\n"
          ]
        }
      ]
    },
    {
      "cell_type": "code",
      "source": [
        "a = 'abcde'\n",
        "\n",
        "print(a.replace('ab', 'z'))"
      ],
      "metadata": {
        "colab": {
          "base_uri": "https://localhost:8080/"
        },
        "id": "KEQ3pXD-5Sok",
        "outputId": "65f363e9-94a8-4b65-d538-edbb3ee6c310"
      },
      "execution_count": null,
      "outputs": [
        {
          "output_type": "stream",
          "name": "stdout",
          "text": [
            "zcde\n"
          ]
        }
      ]
    },
    {
      "cell_type": "code",
      "source": [],
      "metadata": {
        "id": "OLxNi3w05dSE"
      },
      "execution_count": null,
      "outputs": []
    },
    {
      "cell_type": "markdown",
      "metadata": {
        "id": "uOh2_4hKmr24"
      },
      "source": [
        "### Printing strings a bit differently"
      ]
    },
    {
      "cell_type": "code",
      "source": [
        "a = 'rahul'\n",
        "b = 'mohan'\n",
        "\n",
        "\n",
        "print(f'{a} and {b} are best friends')"
      ],
      "metadata": {
        "colab": {
          "base_uri": "https://localhost:8080/"
        },
        "id": "vRvZoeZO5d4B",
        "outputId": "a543834a-f539-4e20-c639-ad903d56e330"
      },
      "execution_count": null,
      "outputs": [
        {
          "output_type": "stream",
          "name": "stdout",
          "text": [
            "rahul and mohan are best friends\n"
          ]
        }
      ]
    },
    {
      "cell_type": "code",
      "source": [
        "a = 'my name is {name1}'.format(name1='mohit')\n",
        "print(a)"
      ],
      "metadata": {
        "colab": {
          "base_uri": "https://localhost:8080/"
        },
        "id": "jYlxuh3d5nn0",
        "outputId": "5071a180-edd3-4647-f138-52fe6d79066b"
      },
      "execution_count": null,
      "outputs": [
        {
          "output_type": "stream",
          "name": "stdout",
          "text": [
            "my name is mohit\n"
          ]
        }
      ]
    },
    {
      "cell_type": "code",
      "source": [],
      "metadata": {
        "id": "C4q2cNhY6T4A"
      },
      "execution_count": null,
      "outputs": []
    },
    {
      "cell_type": "markdown",
      "metadata": {
        "id": "t1KX9ExluH05"
      },
      "source": [
        "### Earlier when discussing strings we introduced the concept of a <u>sequence</u> in Python.\n",
        "* <u>Lists</u> can be thought of the most general version of a *sequence* in Python.\n",
        "\n",
        "\n",
        "* Unlike strings, they are mutable, meaning the elements inside a list can be changed!\n",
        "\n",
        "\n",
        "* Lists are constructed with brackets <code>[]</code> and commas separating every element in the list."
      ]
    },
    {
      "cell_type": "markdown",
      "metadata": {
        "id": "4c9z_UZs_Sdw"
      },
      "source": [
        "![image.png](data:image/png;base64,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)"
      ]
    },
    {
      "cell_type": "code",
      "source": [
        "a = [1,2,3,4,1.0,2.0,'ab']\n",
        "type(a)"
      ],
      "metadata": {
        "colab": {
          "base_uri": "https://localhost:8080/"
        },
        "id": "81b3xQwn7GVK",
        "outputId": "f99ed9d2-cdd8-411c-91a6-25511bdc13ce"
      },
      "execution_count": null,
      "outputs": [
        {
          "output_type": "execute_result",
          "data": {
            "text/plain": [
              "list"
            ]
          },
          "metadata": {},
          "execution_count": 38
        }
      ]
    },
    {
      "cell_type": "code",
      "source": [
        "print(a[-1])"
      ],
      "metadata": {
        "colab": {
          "base_uri": "https://localhost:8080/"
        },
        "id": "isJLw7yX7MCu",
        "outputId": "1eca6850-5e5d-48bd-8ba8-c83c087a706d"
      },
      "execution_count": null,
      "outputs": [
        {
          "output_type": "stream",
          "name": "stdout",
          "text": [
            "ab\n"
          ]
        }
      ]
    },
    {
      "cell_type": "code",
      "source": [
        "print(a[-1][-1])"
      ],
      "metadata": {
        "colab": {
          "base_uri": "https://localhost:8080/"
        },
        "id": "wpczvbjC7psG",
        "outputId": "9782a2a9-53fa-4c6d-eda3-575194876293"
      },
      "execution_count": null,
      "outputs": [
        {
          "output_type": "stream",
          "name": "stdout",
          "text": [
            "b\n"
          ]
        }
      ]
    },
    {
      "cell_type": "code",
      "source": [],
      "metadata": {
        "id": "omNrXRLi8AhS"
      },
      "execution_count": null,
      "outputs": []
    },
    {
      "cell_type": "markdown",
      "metadata": {
        "id": "VyvYPGtYuH16"
      },
      "source": [
        "## List Slicing\n",
        "\n",
        "* We can use a <code>:</code> to perform *slicing* which grabs everything up to a designated point.\n",
        "\n",
        "\n",
        "* The starting index is specified on the left of the <code>:</code> and the ending index is specified on the right of the <code>:</code>.\n",
        "\n",
        "\n",
        "* Remember the element located at the right index is not included."
      ]
    },
    {
      "cell_type": "code",
      "source": [
        "a"
      ],
      "metadata": {
        "colab": {
          "base_uri": "https://localhost:8080/"
        },
        "id": "A5WcZZ2u8BRm",
        "outputId": "1e364c85-f7ea-4552-d99a-53611d99eeef"
      },
      "execution_count": null,
      "outputs": [
        {
          "output_type": "execute_result",
          "data": {
            "text/plain": [
              "[1, 2, 3, 4, 1.0, 2.0, 'ab']"
            ]
          },
          "metadata": {},
          "execution_count": 42
        }
      ]
    },
    {
      "cell_type": "code",
      "source": [
        "a = 100\n",
        "b = 200\n",
        "a,b = b,a\n",
        "print(a)"
      ],
      "metadata": {
        "colab": {
          "base_uri": "https://localhost:8080/"
        },
        "id": "fAsOtidY8Bh8",
        "outputId": "983106ed-2d61-4656-8681-f0bd06fe241b"
      },
      "execution_count": null,
      "outputs": [
        {
          "output_type": "stream",
          "name": "stdout",
          "text": [
            "200\n"
          ]
        }
      ]
    },
    {
      "cell_type": "code",
      "source": [
        "print(b)"
      ],
      "metadata": {
        "colab": {
          "base_uri": "https://localhost:8080/"
        },
        "id": "5U3t2DzE8iNJ",
        "outputId": "dedd2de3-e9c0-4296-f7c8-a9bedb3c9b9e"
      },
      "execution_count": null,
      "outputs": [
        {
          "output_type": "stream",
          "name": "stdout",
          "text": [
            "100\n"
          ]
        }
      ]
    },
    {
      "cell_type": "code",
      "source": [],
      "metadata": {
        "id": "SWbvNhbz8l-J"
      },
      "execution_count": null,
      "outputs": []
    },
    {
      "cell_type": "markdown",
      "metadata": {
        "id": "tTNjU4sI9n3R"
      },
      "source": [
        "## List Slicing\n",
        "\n",
        "* We can use a <code>:</code> to perform *slicing* which grabs everything up to a designated point.\n",
        "\n",
        "\n",
        "* The starting index is specified on the left of the <code>:</code> and the ending index is specified on the right of the <code>:</code>.\n",
        "\n",
        "\n",
        "* Remember the element located at the right index is not included."
      ]
    },
    {
      "cell_type": "code",
      "source": [
        "a = [1, 2, 3, 4, 1.0, 2.0, 'ab']\n",
        "\n",
        "print(a[1:4])"
      ],
      "metadata": {
        "colab": {
          "base_uri": "https://localhost:8080/"
        },
        "id": "_q_Ycghy9pj9",
        "outputId": "0dbbc84c-325a-4faf-f8dc-a893b0a55ac5"
      },
      "execution_count": null,
      "outputs": [
        {
          "output_type": "stream",
          "name": "stdout",
          "text": [
            "[2, 3, 4]\n"
          ]
        }
      ]
    },
    {
      "cell_type": "code",
      "source": [
        "\n",
        "print(a[1:4:2])"
      ],
      "metadata": {
        "colab": {
          "base_uri": "https://localhost:8080/"
        },
        "id": "ohwPWrQF93xK",
        "outputId": "7e4823fb-a72d-4127-ac0d-e9435dccc394"
      },
      "execution_count": null,
      "outputs": [
        {
          "output_type": "stream",
          "name": "stdout",
          "text": [
            "[2, 4]\n"
          ]
        }
      ]
    },
    {
      "cell_type": "code",
      "source": [],
      "metadata": {
        "id": "NxWFMN4G-Jy2"
      },
      "execution_count": null,
      "outputs": []
    },
    {
      "cell_type": "markdown",
      "metadata": {
        "id": "Sq2OgleGuH23"
      },
      "source": [
        "## List Operations\n",
        "* Remember we said that lists are mutable as opposed to strings. Lets see how can we change the elements of a list"
      ]
    },
    {
      "cell_type": "markdown",
      "metadata": {
        "id": "fDoYdXjFuH24"
      },
      "source": [
        "* We can also use <code>+</code> to concatenate lists, just like we did for strings."
      ]
    },
    {
      "cell_type": "code",
      "source": [
        "a = [1,2,3]\n",
        "\n",
        "a+[4]"
      ],
      "metadata": {
        "colab": {
          "base_uri": "https://localhost:8080/"
        },
        "id": "sVNnUZ3n-KUT",
        "outputId": "675ad439-3e28-4302-afb0-c0b310d54617"
      },
      "execution_count": null,
      "outputs": [
        {
          "output_type": "execute_result",
          "data": {
            "text/plain": [
              "[1, 2, 3, 4]"
            ]
          },
          "metadata": {},
          "execution_count": 47
        }
      ]
    },
    {
      "cell_type": "code",
      "source": [
        "a"
      ],
      "metadata": {
        "colab": {
          "base_uri": "https://localhost:8080/"
        },
        "id": "DM4cZbgS-Of_",
        "outputId": "27eadf53-38b8-42f5-f814-fdf78653d8d2"
      },
      "execution_count": null,
      "outputs": [
        {
          "output_type": "execute_result",
          "data": {
            "text/plain": [
              "[1, 2, 3]"
            ]
          },
          "metadata": {},
          "execution_count": 48
        }
      ]
    },
    {
      "cell_type": "code",
      "source": [],
      "metadata": {
        "id": "3BcMEfgY-QBj"
      },
      "execution_count": null,
      "outputs": []
    },
    {
      "cell_type": "markdown",
      "metadata": {
        "id": "p7d98KoOuH3f"
      },
      "source": [
        "### <code>min()</code>\n",
        "\n",
        "\n",
        "* <code>min()</code> function returns the minimum element of the list\n",
        "\n",
        "\n",
        "* <code>min()</code> function only works with lists of similar data types"
      ]
    },
    {
      "cell_type": "code",
      "source": [
        "a = [1,2,3,4,5,6,0]\n",
        "\n",
        "min(a)"
      ],
      "metadata": {
        "colab": {
          "base_uri": "https://localhost:8080/"
        },
        "id": "KDo3FqDU-ZqT",
        "outputId": "9d808e03-22b4-48e1-82d9-5e9e6ca11701"
      },
      "execution_count": null,
      "outputs": [
        {
          "output_type": "execute_result",
          "data": {
            "text/plain": [
              "0"
            ]
          },
          "metadata": {},
          "execution_count": 51
        }
      ]
    },
    {
      "cell_type": "code",
      "source": [
        "max(a)"
      ],
      "metadata": {
        "colab": {
          "base_uri": "https://localhost:8080/"
        },
        "id": "-fmT7GCO-dOj",
        "outputId": "7d22f8fc-8350-4e41-fc06-57be38bc58e0"
      },
      "execution_count": null,
      "outputs": [
        {
          "output_type": "execute_result",
          "data": {
            "text/plain": [
              "6"
            ]
          },
          "metadata": {},
          "execution_count": 52
        }
      ]
    },
    {
      "cell_type": "code",
      "source": [],
      "metadata": {
        "id": "vBY5wNi_-h55"
      },
      "execution_count": null,
      "outputs": []
    },
    {
      "cell_type": "markdown",
      "metadata": {
        "id": "1sitoBoVuH3u"
      },
      "source": [
        "### <code>sum()</code>\n",
        "\n",
        "\n",
        "* <code>sum()</code> function returns the sum of the elements of the list\n",
        "\n",
        "\n",
        "* <code>sum()</code> function only works with lists of numeric data types"
      ]
    },
    {
      "cell_type": "code",
      "source": [
        "sum(a)"
      ],
      "metadata": {
        "colab": {
          "base_uri": "https://localhost:8080/"
        },
        "id": "me5AAePm-lJ5",
        "outputId": "263fa4e7-26e4-45b4-caf8-96d085f31912"
      },
      "execution_count": null,
      "outputs": [
        {
          "output_type": "execute_result",
          "data": {
            "text/plain": [
              "21"
            ]
          },
          "metadata": {},
          "execution_count": 53
        }
      ]
    },
    {
      "cell_type": "code",
      "source": [],
      "metadata": {
        "id": "ndUVmh-f-mJ3"
      },
      "execution_count": null,
      "outputs": []
    },
    {
      "cell_type": "markdown",
      "metadata": {
        "id": "V31491BvuH3z"
      },
      "source": [
        "### <code>sorted()</code>\n",
        "\n",
        "\n",
        "* <code>sorted()</code> function returns the sorted list\n",
        "\n",
        "\n",
        "* <code>sorted()</code> function takes reverse boolean as an argument\n",
        "\n",
        "\n",
        "* <code>sorted()</code> function only works on a list with similar data types"
      ]
    },
    {
      "cell_type": "code",
      "source": [
        "a = [1,2,3,0]\n",
        "\n",
        "sorted(a)"
      ],
      "metadata": {
        "colab": {
          "base_uri": "https://localhost:8080/"
        },
        "id": "nwvVtGQN-t_8",
        "outputId": "176f12e0-f0c2-4122-9e3d-6371fb4455f0"
      },
      "execution_count": null,
      "outputs": [
        {
          "output_type": "execute_result",
          "data": {
            "text/plain": [
              "[0, 1, 2, 3]"
            ]
          },
          "metadata": {},
          "execution_count": 54
        }
      ]
    },
    {
      "cell_type": "code",
      "source": [
        "a.reverse()"
      ],
      "metadata": {
        "id": "ntlQkACG_D52"
      },
      "execution_count": null,
      "outputs": []
    },
    {
      "cell_type": "code",
      "source": [
        "a"
      ],
      "metadata": {
        "colab": {
          "base_uri": "https://localhost:8080/"
        },
        "id": "igoxJwrX_IRq",
        "outputId": "e82beff6-4c8d-45cf-dafe-61f98c6d200a"
      },
      "execution_count": null,
      "outputs": [
        {
          "output_type": "execute_result",
          "data": {
            "text/plain": [
              "[0, 3, 2, 1]"
            ]
          },
          "metadata": {},
          "execution_count": 58
        }
      ]
    },
    {
      "cell_type": "code",
      "source": [
        "sorted(a,reverse = True)"
      ],
      "metadata": {
        "colab": {
          "base_uri": "https://localhost:8080/"
        },
        "id": "y_M8Pe0Z-xVx",
        "outputId": "3b95267d-af9f-4292-e633-6e897ee19a27"
      },
      "execution_count": null,
      "outputs": [
        {
          "output_type": "execute_result",
          "data": {
            "text/plain": [
              "[3, 2, 1, 0]"
            ]
          },
          "metadata": {},
          "execution_count": 55
        }
      ]
    },
    {
      "cell_type": "code",
      "source": [],
      "metadata": {
        "id": "VlRbYhlR-1Au"
      },
      "execution_count": null,
      "outputs": []
    },
    {
      "cell_type": "markdown",
      "metadata": {
        "id": "gzCO-o-1uH4F"
      },
      "source": [
        "## List Methods\n",
        "\n",
        "* If you are familiar with another programming language, you might start to draw parallels between arrays in another language and lists in Python. Lists in Python however, tend to be more flexible than arrays in other languages for a two good reasons: they have no fixed size (meaning we don't have to specify how big a list will be), and they have no fixed type constraint (like we've seen above).\n",
        "\n",
        "\n",
        "* Let's go ahead and explore some more special methods for lists:"
      ]
    },
    {
      "cell_type": "code",
      "source": [],
      "metadata": {
        "id": "Sx9EV8ZIA1it"
      },
      "execution_count": null,
      "outputs": []
    },
    {
      "cell_type": "markdown",
      "metadata": {
        "id": "BgmqyEUHuH4M"
      },
      "source": [
        "### <code>append()</code>\n",
        "\n",
        "* Use the <code>append()</code> method to permanently add an item to the end of a list.\n",
        "\n",
        "\n",
        "* <code>append()</code> method takes the element which you want to add to the list as an argument"
      ]
    },
    {
      "cell_type": "code",
      "source": [
        "a = [1,2,3]\n",
        "a.append(4)\n",
        "print(a)"
      ],
      "metadata": {
        "colab": {
          "base_uri": "https://localhost:8080/"
        },
        "id": "47v-EmmgA2RK",
        "outputId": "ce19851e-bc60-4fb6-bb16-20e8506655e1"
      },
      "execution_count": null,
      "outputs": [
        {
          "output_type": "stream",
          "name": "stdout",
          "text": [
            "[1, 2, 3, 4]\n"
          ]
        }
      ]
    },
    {
      "cell_type": "code",
      "source": [
        "a.append(4)\n",
        "print(a)"
      ],
      "metadata": {
        "colab": {
          "base_uri": "https://localhost:8080/"
        },
        "id": "kDuA2p23BASH",
        "outputId": "223fc5da-dd82-42fe-9e2f-bdac0229c33e"
      },
      "execution_count": null,
      "outputs": [
        {
          "output_type": "stream",
          "name": "stdout",
          "text": [
            "[1, 2, 3, 4, 4]\n"
          ]
        }
      ]
    },
    {
      "cell_type": "code",
      "source": [
        "a.append(5)\n",
        "print(a)"
      ],
      "metadata": {
        "colab": {
          "base_uri": "https://localhost:8080/"
        },
        "id": "DasUXtm7BIBV",
        "outputId": "6c3b3610-be5b-4c24-866d-488ab930f521"
      },
      "execution_count": null,
      "outputs": [
        {
          "output_type": "stream",
          "name": "stdout",
          "text": [
            "[1, 2, 3, 4, 4, 5]\n"
          ]
        }
      ]
    },
    {
      "cell_type": "code",
      "source": [
        "a = [1,2,3]\n",
        "\n",
        "a+[4]"
      ],
      "metadata": {
        "colab": {
          "base_uri": "https://localhost:8080/"
        },
        "id": "mNYwQ2sPBI8K",
        "outputId": "8d627dde-eb12-430a-9b41-8f6cbe798e9d"
      },
      "execution_count": null,
      "outputs": [
        {
          "output_type": "execute_result",
          "data": {
            "text/plain": [
              "[1, 2, 3, 4]"
            ]
          },
          "metadata": {},
          "execution_count": 62
        }
      ]
    },
    {
      "cell_type": "code",
      "source": [
        "print(a)"
      ],
      "metadata": {
        "colab": {
          "base_uri": "https://localhost:8080/"
        },
        "id": "DXwkVo99BPoN",
        "outputId": "2d930bcb-4293-438b-a32f-818520a6e0bf"
      },
      "execution_count": null,
      "outputs": [
        {
          "output_type": "stream",
          "name": "stdout",
          "text": [
            "[1, 2, 3]\n"
          ]
        }
      ]
    },
    {
      "cell_type": "code",
      "source": [],
      "metadata": {
        "id": "bM24TyCEBRdb"
      },
      "execution_count": null,
      "outputs": []
    },
    {
      "cell_type": "markdown",
      "metadata": {
        "id": "tGmbu4MKuH43"
      },
      "source": [
        "### <code>extend()</code>\n",
        "\n",
        "* Use the <code> extend()</code> method to merge a list to an existing list\n",
        "\n",
        "\n",
        "* <code> extend()</code> method takes a list or any iterable(don't worry about it now) as an argument.\n",
        "\n",
        "\n",
        "* Quite helpful when you have two or more lists and you want to merge them together"
      ]
    },
    {
      "cell_type": "code",
      "source": [
        "a"
      ],
      "metadata": {
        "colab": {
          "base_uri": "https://localhost:8080/"
        },
        "id": "jHPj6vjdBfMp",
        "outputId": "b2254106-50c7-4ac1-8b19-eff55f9419c0"
      },
      "execution_count": null,
      "outputs": [
        {
          "output_type": "execute_result",
          "data": {
            "text/plain": [
              "[1, 2, 3]"
            ]
          },
          "metadata": {},
          "execution_count": 64
        }
      ]
    },
    {
      "cell_type": "code",
      "source": [
        "a.append([4,5,6])\n",
        "a"
      ],
      "metadata": {
        "colab": {
          "base_uri": "https://localhost:8080/"
        },
        "id": "5z2LZjvsBh5d",
        "outputId": "519534e2-6f9b-41d1-9b8a-18ba960f2a32"
      },
      "execution_count": null,
      "outputs": [
        {
          "output_type": "execute_result",
          "data": {
            "text/plain": [
              "[1, 2, 3, [4, 5, 6]]"
            ]
          },
          "metadata": {},
          "execution_count": 65
        }
      ]
    },
    {
      "cell_type": "code",
      "source": [
        "a.extend([4,5,6])\n",
        "a"
      ],
      "metadata": {
        "colab": {
          "base_uri": "https://localhost:8080/"
        },
        "id": "mHgzF_UjBlPs",
        "outputId": "7413f6fb-a37a-42f3-94ad-d2a6fb7dd03c"
      },
      "execution_count": null,
      "outputs": [
        {
          "output_type": "execute_result",
          "data": {
            "text/plain": [
              "[1, 2, 3, [4, 5, 6], 4, 5, 6]"
            ]
          },
          "metadata": {},
          "execution_count": 66
        }
      ]
    },
    {
      "cell_type": "code",
      "source": [],
      "metadata": {
        "id": "LeWb8k32BzCd"
      },
      "execution_count": null,
      "outputs": []
    },
    {
      "cell_type": "markdown",
      "metadata": {
        "id": "rshOIKENuH5F"
      },
      "source": [
        "### <code>pop()</code>\n",
        "\n",
        "* Use <code>pop()</code> to \"pop off\" an item from the list.\n",
        "\n",
        "\n",
        "* By default <code>pop()</code> takes off the element at the last index, but you can also specify which index to pop off.\n",
        "\n",
        "\n",
        "* <code>pop()</code> takes the index as an argument and returns the elenent which was popped off."
      ]
    },
    {
      "cell_type": "code",
      "source": [
        "a"
      ],
      "metadata": {
        "colab": {
          "base_uri": "https://localhost:8080/"
        },
        "id": "0ZLL2bamBzhU",
        "outputId": "578a6e04-063c-46bc-c1b2-4070abec2c52"
      },
      "execution_count": null,
      "outputs": [
        {
          "output_type": "execute_result",
          "data": {
            "text/plain": [
              "[1, 2, 3, [4, 5, 6], 4, 5, 6]"
            ]
          },
          "metadata": {},
          "execution_count": 67
        }
      ]
    },
    {
      "cell_type": "code",
      "source": [
        "a.pop(-1)\n",
        "a"
      ],
      "metadata": {
        "colab": {
          "base_uri": "https://localhost:8080/"
        },
        "id": "6END_x7iBzs0",
        "outputId": "4fae0dc0-1d1e-46f4-b785-0c243fb23ec6"
      },
      "execution_count": null,
      "outputs": [
        {
          "output_type": "execute_result",
          "data": {
            "text/plain": [
              "[1, 2, 3, [4, 5, 6], 4, 5]"
            ]
          },
          "metadata": {},
          "execution_count": 68
        }
      ]
    },
    {
      "cell_type": "code",
      "source": [
        "a.pop(0)\n",
        "a"
      ],
      "metadata": {
        "colab": {
          "base_uri": "https://localhost:8080/"
        },
        "id": "MCPN3fzqB3G9",
        "outputId": "1b8f084e-78a1-41e2-9378-9a3641470ca1"
      },
      "execution_count": null,
      "outputs": [
        {
          "output_type": "execute_result",
          "data": {
            "text/plain": [
              "[2, [4, 5, 6], 4, 5]"
            ]
          },
          "metadata": {},
          "execution_count": 73
        }
      ]
    },
    {
      "cell_type": "markdown",
      "metadata": {
        "id": "YBAQ1FyQuH5f"
      },
      "source": [
        "### <code>remove()</code>\n",
        "\n",
        "* Use <code>remove()</code> to remove an item/element from the list.\n",
        "\n",
        "\n",
        "* By default <code>remove()</code> removes the specified element from the list.\n",
        "\n",
        "\n",
        "* <code>remove()</code> takes the element as an argument."
      ]
    },
    {
      "cell_type": "code",
      "source": [
        "a"
      ],
      "metadata": {
        "colab": {
          "base_uri": "https://localhost:8080/"
        },
        "id": "Q1Gr5lYVCEvB",
        "outputId": "63d223c5-9a96-426f-8056-7a2c93af0a1f"
      },
      "execution_count": null,
      "outputs": [
        {
          "output_type": "execute_result",
          "data": {
            "text/plain": [
              "[1, 2, 3, [4, 5, 6], 4, 5]"
            ]
          },
          "metadata": {},
          "execution_count": 70
        }
      ]
    },
    {
      "cell_type": "code",
      "source": [
        "a.remove(3)\n",
        "a"
      ],
      "metadata": {
        "colab": {
          "base_uri": "https://localhost:8080/"
        },
        "id": "0v69m_vSCJAn",
        "outputId": "a1267c5e-239b-4968-8ff2-320ad75d87bb"
      },
      "execution_count": null,
      "outputs": [
        {
          "output_type": "execute_result",
          "data": {
            "text/plain": [
              "[1, 2, [4, 5, 6], 4, 5]"
            ]
          },
          "metadata": {},
          "execution_count": 72
        }
      ]
    },
    {
      "cell_type": "markdown",
      "metadata": {
        "id": "avyykdGjuH52"
      },
      "source": [
        "### <code>index()</code>\n",
        "\n",
        "\n",
        "* The <code>index()</code> method returns the index of a specified element."
      ]
    },
    {
      "cell_type": "code",
      "source": [
        "a.index(3)"
      ],
      "metadata": {
        "colab": {
          "base_uri": "https://localhost:8080/"
        },
        "id": "hyX7BDQ0B-zm",
        "outputId": "6645082e-54e2-4ad6-8c81-ec9c8d5ddf68"
      },
      "execution_count": null,
      "outputs": [
        {
          "output_type": "execute_result",
          "data": {
            "text/plain": [
              "2"
            ]
          },
          "metadata": {},
          "execution_count": 69
        }
      ]
    },
    {
      "cell_type": "code",
      "source": [],
      "metadata": {
        "id": "Q_OWDCchCATP"
      },
      "execution_count": null,
      "outputs": []
    },
    {
      "cell_type": "markdown",
      "metadata": {
        "id": "-PKIGd9xuH6a"
      },
      "source": [
        "### <code>reverse()</code>\n",
        "\n",
        "* <code>reverse()</code> method reverses the list"
      ]
    },
    {
      "cell_type": "code",
      "source": [
        "a = [1,2,'a','b']\n",
        "a.reverse()\n",
        "a"
      ],
      "metadata": {
        "colab": {
          "base_uri": "https://localhost:8080/"
        },
        "id": "UC-FQLE5DC09",
        "outputId": "212736d0-80ac-41e5-c26c-f235df0266bc"
      },
      "execution_count": null,
      "outputs": [
        {
          "output_type": "execute_result",
          "data": {
            "text/plain": [
              "['b', 'a', 2, 1]"
            ]
          },
          "metadata": {},
          "execution_count": 75
        }
      ]
    },
    {
      "cell_type": "code",
      "source": [
        "a= [1,9,2,3]\n",
        "sorted(a,reverse = True)"
      ],
      "metadata": {
        "colab": {
          "base_uri": "https://localhost:8080/"
        },
        "id": "HgEFBGs_DH4n",
        "outputId": "77c132ef-7b04-4e7c-c78b-75abc4ddbc50"
      },
      "execution_count": null,
      "outputs": [
        {
          "output_type": "execute_result",
          "data": {
            "text/plain": [
              "[9, 3, 2, 1]"
            ]
          },
          "metadata": {},
          "execution_count": 77
        }
      ]
    },
    {
      "cell_type": "code",
      "source": [],
      "metadata": {
        "id": "yZvrhHG7DXWp"
      },
      "execution_count": null,
      "outputs": []
    },
    {
      "cell_type": "markdown",
      "metadata": {
        "id": "XyN6An5ux2v8"
      },
      "source": [
        "# Tuples\n",
        "\n",
        "* In Python tuples are very similar to lists, however, unlike lists they are *immutable* meaning they can not be changed.\n",
        "\n",
        "\n",
        "* You would use tuples to present things that shouldn't be changed, such as days of the week, or dates on a calendar.\n",
        "\n",
        "\n",
        "* You'll have an intuition of how to use tuples based on what you've learned about lists. We can treat them very similarly with the <u>major distinction being that tuples are immutable</u>.\n",
        "\n",
        "\n",
        "## Constructing Tuples\n",
        "\n",
        "* The construction of a tuples use <code>()</code> with elements separated by commas."
      ]
    },
    {
      "cell_type": "code",
      "source": [
        "a = [1,2,3,4,5]\n",
        "\n",
        "a[0] = 100\n",
        "a"
      ],
      "metadata": {
        "colab": {
          "base_uri": "https://localhost:8080/"
        },
        "id": "9GtnwfLbDkxn",
        "outputId": "c1924194-f0ac-4636-d012-355a89e73352"
      },
      "execution_count": null,
      "outputs": [
        {
          "output_type": "execute_result",
          "data": {
            "text/plain": [
              "[100, 2, 3, 4, 5]"
            ]
          },
          "metadata": {},
          "execution_count": 78
        }
      ]
    },
    {
      "cell_type": "code",
      "source": [
        "a = (1,2,3,4,5)\n",
        "\n",
        "a[0] = 100\n",
        "a"
      ],
      "metadata": {
        "colab": {
          "base_uri": "https://localhost:8080/",
          "height": 193
        },
        "id": "znCQ89CuDpSM",
        "outputId": "40c7ed87-b852-4829-a346-3869b87f1126"
      },
      "execution_count": null,
      "outputs": [
        {
          "output_type": "error",
          "ename": "TypeError",
          "evalue": "'tuple' object does not support item assignment",
          "traceback": [
            "\u001b[0;31m---------------------------------------------------------------------------\u001b[0m",
            "\u001b[0;31mTypeError\u001b[0m                                 Traceback (most recent call last)",
            "\u001b[0;32m<ipython-input-79-a2ce674a437a>\u001b[0m in \u001b[0;36m<cell line: 3>\u001b[0;34m()\u001b[0m\n\u001b[1;32m      1\u001b[0m \u001b[0ma\u001b[0m \u001b[0;34m=\u001b[0m \u001b[0;34m(\u001b[0m\u001b[0;36m1\u001b[0m\u001b[0;34m,\u001b[0m\u001b[0;36m2\u001b[0m\u001b[0;34m,\u001b[0m\u001b[0;36m3\u001b[0m\u001b[0;34m,\u001b[0m\u001b[0;36m4\u001b[0m\u001b[0;34m,\u001b[0m\u001b[0;36m5\u001b[0m\u001b[0;34m)\u001b[0m\u001b[0;34m\u001b[0m\u001b[0;34m\u001b[0m\u001b[0m\n\u001b[1;32m      2\u001b[0m \u001b[0;34m\u001b[0m\u001b[0m\n\u001b[0;32m----> 3\u001b[0;31m \u001b[0ma\u001b[0m\u001b[0;34m[\u001b[0m\u001b[0;36m0\u001b[0m\u001b[0;34m]\u001b[0m \u001b[0;34m=\u001b[0m \u001b[0;36m100\u001b[0m\u001b[0;34m\u001b[0m\u001b[0;34m\u001b[0m\u001b[0m\n\u001b[0m\u001b[1;32m      4\u001b[0m \u001b[0ma\u001b[0m\u001b[0;34m\u001b[0m\u001b[0;34m\u001b[0m\u001b[0m\n",
            "\u001b[0;31mTypeError\u001b[0m: 'tuple' object does not support item assignment"
          ]
        }
      ]
    },
    {
      "cell_type": "code",
      "source": [],
      "metadata": {
        "id": "FraEu5GID_hp"
      },
      "execution_count": null,
      "outputs": []
    },
    {
      "cell_type": "markdown",
      "metadata": {
        "id": "4JSa0bw9x2xL"
      },
      "source": [
        "* Tuple does not support methods such as <code>append()</code>, <code>extend()</code>, <code>remove()</code>, <code>pop()</code>"
      ]
    },
    {
      "cell_type": "code",
      "source": [],
      "metadata": {
        "id": "xpDLAMm4ECgU"
      },
      "execution_count": null,
      "outputs": []
    },
    {
      "cell_type": "markdown",
      "metadata": {
        "id": "FY0pToLax2xO"
      },
      "source": [
        "### <code>zip()</code>\n",
        "\n",
        "\n",
        "* <code>zip()</code> function takes multiple lists as arguments and zips them together\n",
        "\n",
        "\n",
        "* This function returns a list of n-paired tuples where n is the number of lists being zipped"
      ]
    },
    {
      "cell_type": "code",
      "source": [],
      "metadata": {
        "id": "wloC_nlaEDJB"
      },
      "execution_count": null,
      "outputs": []
    },
    {
      "cell_type": "code",
      "execution_count": null,
      "metadata": {
        "id": "nZqkre4Ex2xP",
        "colab": {
          "base_uri": "https://localhost:8080/"
        },
        "outputId": "4cff54b7-0812-4a1e-92cd-27b6a8fdb6b2"
      },
      "outputs": [
        {
          "output_type": "execute_result",
          "data": {
            "text/plain": [
              "[('Delhi', 'Yamuna'),\n",
              " ('Patna', 'Ganga'),\n",
              " ('Cuttack', 'Mahanadi'),\n",
              " ('Guwahati', 'Brahmaputra')]"
            ]
          },
          "metadata": {},
          "execution_count": 80
        }
      ],
      "source": [
        "city_list = ['Delhi','Patna','Cuttack','Guwahati']\n",
        "river_list = ['Yamuna','Ganga','Mahanadi','Brahmaputra']\n",
        "\n",
        "list(zip(city_list,river_list))"
      ]
    },
    {
      "cell_type": "code",
      "source": [],
      "metadata": {
        "id": "YNPsHNbgEVmx"
      },
      "execution_count": null,
      "outputs": []
    },
    {
      "cell_type": "markdown",
      "metadata": {
        "id": "Fy6-SFXHx2xW"
      },
      "source": [
        "# Sets\n",
        "\n",
        "* Sets are an unordered collection of *unique* elements. We can construct them by using the <code>set()</code> function.\n",
        "\n",
        "\n",
        "* Sets cannot have duplicates.\n",
        "\n",
        "\n",
        "* Sets are mutable just like lists.\n",
        "\n",
        "\n",
        "* You can create a non-empty set with curly braces by specifying elements separated by a comma."
      ]
    },
    {
      "cell_type": "code",
      "source": [
        "a = {1,2,3,1,4,1,1,2,3}\n",
        "print(a)"
      ],
      "metadata": {
        "colab": {
          "base_uri": "https://localhost:8080/"
        },
        "id": "jWQPUXHnEhsm",
        "outputId": "34487855-b5f9-4995-915a-9178d5a63414"
      },
      "execution_count": null,
      "outputs": [
        {
          "output_type": "stream",
          "name": "stdout",
          "text": [
            "{1, 2, 3, 4}\n"
          ]
        }
      ]
    },
    {
      "cell_type": "code",
      "source": [
        "a.add(6)\n",
        "a"
      ],
      "metadata": {
        "colab": {
          "base_uri": "https://localhost:8080/"
        },
        "id": "zcs-UyFEEnQi",
        "outputId": "284eae5e-020c-4002-b86c-6616fd5966df"
      },
      "execution_count": null,
      "outputs": [
        {
          "output_type": "execute_result",
          "data": {
            "text/plain": [
              "{1, 2, 3, 4, 6}"
            ]
          },
          "metadata": {},
          "execution_count": 82
        }
      ]
    },
    {
      "cell_type": "code",
      "source": [
        "a.add(6)\n",
        "a"
      ],
      "metadata": {
        "colab": {
          "base_uri": "https://localhost:8080/"
        },
        "id": "9FQ4PiL-Eu7V",
        "outputId": "a9c5f1fd-e160-42a0-f91f-427833e7659a"
      },
      "execution_count": null,
      "outputs": [
        {
          "output_type": "execute_result",
          "data": {
            "text/plain": [
              "{1, 2, 3, 4, 6}"
            ]
          },
          "metadata": {},
          "execution_count": 83
        }
      ]
    },
    {
      "cell_type": "code",
      "source": [],
      "metadata": {
        "id": "sqGckaNdE96B"
      },
      "execution_count": null,
      "outputs": []
    },
    {
      "cell_type": "markdown",
      "metadata": {
        "id": "Ehae_5psx2yT"
      },
      "source": [
        "### <code>remove()</code>\n",
        "\n",
        "* Use <code>remove()</code> to remove an item/element from the set.\n",
        "\n",
        "\n",
        "* By default <code>remove()</code> removes the specified element from the set.\n",
        "\n",
        "\n",
        "* <code>remove()</code> takes the element as an argument."
      ]
    },
    {
      "cell_type": "code",
      "source": [
        "a.remove(6)\n",
        "a"
      ],
      "metadata": {
        "colab": {
          "base_uri": "https://localhost:8080/"
        },
        "id": "PJklvgSnE-WF",
        "outputId": "a156fb41-aa4d-4b2f-acdd-e8567cb11261"
      },
      "execution_count": null,
      "outputs": [
        {
          "output_type": "execute_result",
          "data": {
            "text/plain": [
              "{1, 2, 3, 4}"
            ]
          },
          "metadata": {},
          "execution_count": 84
        }
      ]
    },
    {
      "cell_type": "code",
      "source": [],
      "metadata": {
        "id": "tlEPmd0fFCDe"
      },
      "execution_count": null,
      "outputs": []
    },
    {
      "cell_type": "markdown",
      "metadata": {
        "id": "J78K33lKx2yh"
      },
      "source": [
        "### <code>union()</code>\n",
        "\n",
        "\n",
        "* <code>union()</code> method returns the union of two sets\n",
        "\n",
        "\n",
        "* Also denoted by the operator <code>|</code>"
      ]
    },
    {
      "cell_type": "code",
      "source": [
        "a = {1, 2, 3, 4, 5}\n",
        "b = {4, 5, 6, 7, 8}"
      ],
      "metadata": {
        "id": "VutieY7OFIvX"
      },
      "execution_count": null,
      "outputs": []
    },
    {
      "cell_type": "code",
      "source": [
        "a|b"
      ],
      "metadata": {
        "colab": {
          "base_uri": "https://localhost:8080/"
        },
        "id": "ZXf1oTIbFML7",
        "outputId": "834e0a8a-6009-4a76-83e8-d374fc9bb781"
      },
      "execution_count": null,
      "outputs": [
        {
          "output_type": "execute_result",
          "data": {
            "text/plain": [
              "{1, 2, 3, 4, 5, 6, 7, 8}"
            ]
          },
          "metadata": {},
          "execution_count": 88
        }
      ]
    },
    {
      "cell_type": "code",
      "source": [],
      "metadata": {
        "id": "lPGsv-kgFiNC"
      },
      "execution_count": null,
      "outputs": []
    },
    {
      "cell_type": "markdown",
      "metadata": {
        "id": "-imPGLIHx2ym"
      },
      "source": [
        "### <code>intersection()</code>\n",
        "\n",
        "\n",
        "* <code>intersection()</code> method returns the intersection of two sets\n",
        "\n",
        "\n",
        "* Also denoted by the operator <code>&</code>"
      ]
    },
    {
      "cell_type": "code",
      "source": [
        "a&b"
      ],
      "metadata": {
        "colab": {
          "base_uri": "https://localhost:8080/"
        },
        "id": "gzVKObSaFkis",
        "outputId": "b366dd5a-4a72-4954-e6ee-2ab3b833b209"
      },
      "execution_count": null,
      "outputs": [
        {
          "output_type": "execute_result",
          "data": {
            "text/plain": [
              "{4, 5}"
            ]
          },
          "metadata": {},
          "execution_count": 89
        }
      ]
    },
    {
      "cell_type": "code",
      "source": [],
      "metadata": {
        "id": "QX8zVwg2FlYv"
      },
      "execution_count": null,
      "outputs": []
    },
    {
      "cell_type": "markdown",
      "metadata": {
        "id": "syQXm4jBx2yx"
      },
      "source": [
        "### <code>symmetric_difference()</code>\n",
        "\n",
        "\n",
        "* <code>symmetric_difference()</code> method returns the set of elements in A and B but not in both (excluding the intersection)\n",
        "\n",
        "\n",
        "* Also denoted by the operator <code>^</code>"
      ]
    },
    {
      "cell_type": "code",
      "source": [
        "a^b"
      ],
      "metadata": {
        "colab": {
          "base_uri": "https://localhost:8080/"
        },
        "id": "tbMC0uLNFq2U",
        "outputId": "f8eaf16e-e2bb-4c32-db7a-b9392678bfbb"
      },
      "execution_count": null,
      "outputs": [
        {
          "output_type": "execute_result",
          "data": {
            "text/plain": [
              "{1, 2, 3, 6, 7, 8}"
            ]
          },
          "metadata": {},
          "execution_count": 90
        }
      ]
    },
    {
      "cell_type": "code",
      "source": [],
      "metadata": {
        "id": "hXkTG6juFrTA"
      },
      "execution_count": null,
      "outputs": []
    },
    {
      "cell_type": "markdown",
      "metadata": {
        "id": "wLDBvDUix2y3"
      },
      "source": [
        "# Dictionaries\n",
        "\n",
        "* We've been learning about *sequences* in Python but now we're going to switch gears and learn about *mappings* in Python.\n",
        "\n",
        "\n",
        "* If you're familiar with other languages you can think of these Dictionaries as hash tables.\n",
        "\n",
        "\n",
        "* So what are mappings? Mappings are a collection of objects that are stored by a *key*, unlike a sequence that stored objects by their relative position. This is an important distinction, since mappings won't retain order since they have objects defined by a key.\n",
        "\n",
        "\n",
        "* A Python dictionary consists of a key and then an associated value. That value can be almost any Python object. So a dictionary object always has elements as key-value pairs\n",
        "\n",
        "\n",
        "## Constructing a Dictionary\n",
        "\n",
        "\n",
        "* A dictionary object is constructed using curly braces <code>{key1:value1,key2:value2,key3:value3}</code>"
      ]
    },
    {
      "cell_type": "code",
      "source": [
        "a = {'name':'vishal','age':22}\n",
        "\n",
        "print(a)"
      ],
      "metadata": {
        "colab": {
          "base_uri": "https://localhost:8080/"
        },
        "id": "SZEP-0b-F3Ym",
        "outputId": "7332b42e-606d-437e-81df-b8168244105b"
      },
      "execution_count": null,
      "outputs": [
        {
          "output_type": "stream",
          "name": "stdout",
          "text": [
            "{'name': 'vishal', 'age': 22}\n"
          ]
        }
      ]
    },
    {
      "cell_type": "code",
      "source": [
        "print(a['name'])"
      ],
      "metadata": {
        "colab": {
          "base_uri": "https://localhost:8080/"
        },
        "id": "cQjzSAetGAP0",
        "outputId": "74f0607b-b414-4a92-f9a8-5aac2ecf320d"
      },
      "execution_count": null,
      "outputs": [
        {
          "output_type": "stream",
          "name": "stdout",
          "text": [
            "vishal\n"
          ]
        }
      ]
    },
    {
      "cell_type": "code",
      "source": [
        "print(a['age'])"
      ],
      "metadata": {
        "colab": {
          "base_uri": "https://localhost:8080/"
        },
        "id": "GmPD2fKKGGES",
        "outputId": "9b7f4f1c-e096-499b-f394-0648eaf4ebdc"
      },
      "execution_count": null,
      "outputs": [
        {
          "output_type": "stream",
          "name": "stdout",
          "text": [
            "22\n"
          ]
        }
      ]
    },
    {
      "cell_type": "code",
      "source": [
        "a.keys()"
      ],
      "metadata": {
        "colab": {
          "base_uri": "https://localhost:8080/"
        },
        "id": "91_dXqcjGH3K",
        "outputId": "f161119f-7a34-4a3f-e293-c19e32fa8291"
      },
      "execution_count": null,
      "outputs": [
        {
          "output_type": "execute_result",
          "data": {
            "text/plain": [
              "dict_keys(['name', 'age'])"
            ]
          },
          "metadata": {},
          "execution_count": 94
        }
      ]
    },
    {
      "cell_type": "code",
      "source": [
        "a.values()"
      ],
      "metadata": {
        "colab": {
          "base_uri": "https://localhost:8080/"
        },
        "id": "tSznbA8wGKYn",
        "outputId": "7ff55268-bdbb-4450-bfd0-5b3144ec8b49"
      },
      "execution_count": null,
      "outputs": [
        {
          "output_type": "execute_result",
          "data": {
            "text/plain": [
              "dict_values(['vishal', 22])"
            ]
          },
          "metadata": {},
          "execution_count": 95
        }
      ]
    },
    {
      "cell_type": "code",
      "source": [
        "a.items()"
      ],
      "metadata": {
        "colab": {
          "base_uri": "https://localhost:8080/"
        },
        "id": "-sHwa8w8GMvu",
        "outputId": "7756bd2c-894a-4029-ce16-63511330b320"
      },
      "execution_count": null,
      "outputs": [
        {
          "output_type": "execute_result",
          "data": {
            "text/plain": [
              "dict_items([('name', 'vishal'), ('age', 22)])"
            ]
          },
          "metadata": {},
          "execution_count": 96
        }
      ]
    },
    {
      "cell_type": "code",
      "source": [
        "a['name'] = 'rohit'\n",
        "a"
      ],
      "metadata": {
        "colab": {
          "base_uri": "https://localhost:8080/"
        },
        "id": "h0zf9nPfGPu6",
        "outputId": "fafe4fdd-b9c0-4259-d816-42d51a62a226"
      },
      "execution_count": null,
      "outputs": [
        {
          "output_type": "execute_result",
          "data": {
            "text/plain": [
              "{'name': 'rohit', 'age': 22, 'vishal': 'rohit'}"
            ]
          },
          "metadata": {},
          "execution_count": 98
        }
      ]
    },
    {
      "cell_type": "code",
      "source": [
        "a['salary'] = '30k'\n",
        "a"
      ],
      "metadata": {
        "colab": {
          "base_uri": "https://localhost:8080/"
        },
        "id": "o16zfZARGaMX",
        "outputId": "79cecfee-8607-44c6-a038-23fa1201c4fe"
      },
      "execution_count": null,
      "outputs": [
        {
          "output_type": "execute_result",
          "data": {
            "text/plain": [
              "{'name': 'rohit', 'age': 22, 'vishal': 'rohit', 'salary': '30k'}"
            ]
          },
          "metadata": {},
          "execution_count": 99
        }
      ]
    },
    {
      "cell_type": "code",
      "source": [
        "a.update({'friend':'mohit'})\n",
        "a"
      ],
      "metadata": {
        "colab": {
          "base_uri": "https://localhost:8080/"
        },
        "id": "RTP2WlB5GjQt",
        "outputId": "238a07f9-c477-49cb-a09f-155388288959"
      },
      "execution_count": null,
      "outputs": [
        {
          "output_type": "execute_result",
          "data": {
            "text/plain": [
              "{'name': 'rohit',\n",
              " 'age': 22,\n",
              " 'vishal': 'rohit',\n",
              " 'salary': '30k',\n",
              " 'friend': 'mohit'}"
            ]
          },
          "metadata": {},
          "execution_count": 100
        }
      ]
    },
    {
      "cell_type": "code",
      "source": [
        "a.pop('vishal')\n",
        "a"
      ],
      "metadata": {
        "colab": {
          "base_uri": "https://localhost:8080/"
        },
        "id": "ijaSfNQ4GuSd",
        "outputId": "73c3a0dd-b7da-4dde-dd54-0ec13852047a"
      },
      "execution_count": null,
      "outputs": [
        {
          "output_type": "execute_result",
          "data": {
            "text/plain": [
              "{'name': 'rohit', 'age': 22, 'salary': '30k', 'friend': 'mohit'}"
            ]
          },
          "metadata": {},
          "execution_count": 101
        }
      ]
    },
    {
      "cell_type": "code",
      "source": [
        "a.pop('friend')\n",
        "a"
      ],
      "metadata": {
        "colab": {
          "base_uri": "https://localhost:8080/"
        },
        "id": "sM6f_TXDGz1n",
        "outputId": "bd87662a-92bf-4530-d639-73782444ae0a"
      },
      "execution_count": null,
      "outputs": [
        {
          "output_type": "execute_result",
          "data": {
            "text/plain": [
              "{'name': 'rohit', 'age': 22, 'salary': '30k'}"
            ]
          },
          "metadata": {},
          "execution_count": 102
        }
      ]
    },
    {
      "cell_type": "code",
      "source": [
        "a = 'ram'\n",
        "\n",
        "if a == 'mohan':\n",
        "  print('hello')\n",
        "\n",
        "else:\n",
        "  print('byee')"
      ],
      "metadata": {
        "colab": {
          "base_uri": "https://localhost:8080/"
        },
        "id": "bidYez0iG2nh",
        "outputId": "578d72cd-3d10-49f2-e9c5-6fa98635fef6"
      },
      "execution_count": null,
      "outputs": [
        {
          "output_type": "stream",
          "name": "stdout",
          "text": [
            "byee\n"
          ]
        }
      ]
    },
    {
      "cell_type": "code",
      "source": [
        "a = [1,2,3,4,5,6]\n",
        "\n",
        "for i in a:\n",
        "  print('value of i ',i)"
      ],
      "metadata": {
        "colab": {
          "base_uri": "https://localhost:8080/"
        },
        "id": "_IQ6hxPvHWgG",
        "outputId": "7bb5e514-55ab-421d-84fc-f03c7606ce20"
      },
      "execution_count": null,
      "outputs": [
        {
          "output_type": "stream",
          "name": "stdout",
          "text": [
            "value of i  1\n",
            "value of i  2\n",
            "value of i  3\n",
            "value of i  4\n",
            "value of i  5\n",
            "value of i  6\n"
          ]
        }
      ]
    },
    {
      "cell_type": "code",
      "source": [
        "a = [1,2,3,4,5,6]\n",
        "for i in a:\n",
        "  print(i**3)"
      ],
      "metadata": {
        "colab": {
          "base_uri": "https://localhost:8080/"
        },
        "id": "3BswhpWMHqEl",
        "outputId": "6216958c-688b-4a82-db92-536a61ea7d11"
      },
      "execution_count": null,
      "outputs": [
        {
          "output_type": "stream",
          "name": "stdout",
          "text": [
            "1\n",
            "8\n",
            "27\n",
            "64\n",
            "125\n",
            "216\n"
          ]
        }
      ]
    },
    {
      "cell_type": "code",
      "source": [
        "a = [1,2,3,4,5,6]\n",
        "for i in a:\n",
        "  if i%2 == 0:\n",
        "    print(i**2)\n"
      ],
      "metadata": {
        "colab": {
          "base_uri": "https://localhost:8080/"
        },
        "id": "t4ZP8h63IFyz",
        "outputId": "957fa26a-994c-437a-8557-345e6acb3dd5"
      },
      "execution_count": null,
      "outputs": [
        {
          "output_type": "stream",
          "name": "stdout",
          "text": [
            "4\n",
            "16\n",
            "36\n"
          ]
        }
      ]
    },
    {
      "cell_type": "code",
      "source": [
        "a = [1,2,3,4,5,6]\n",
        "for i in a:\n",
        "  if i%2 == 0:\n",
        "    print(i**2)\n",
        "  else:\n",
        "    print(i**3)\n"
      ],
      "metadata": {
        "colab": {
          "base_uri": "https://localhost:8080/"
        },
        "id": "WnO3d5jFIi54",
        "outputId": "7b8d53f5-6dcf-4ce2-ded7-2f97b5332e3f"
      },
      "execution_count": null,
      "outputs": [
        {
          "output_type": "stream",
          "name": "stdout",
          "text": [
            "1\n",
            "4\n",
            "27\n",
            "16\n",
            "125\n",
            "36\n"
          ]
        }
      ]
    },
    {
      "cell_type": "code",
      "source": [],
      "metadata": {
        "id": "-t1_tQipIqye"
      },
      "execution_count": null,
      "outputs": []
    }
  ]
}