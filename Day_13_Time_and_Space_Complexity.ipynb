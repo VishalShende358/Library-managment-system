{
  "nbformat": 4,
  "nbformat_minor": 0,
  "metadata": {
    "colab": {
      "provenance": [],
      "include_colab_link": true
    },
    "kernelspec": {
      "name": "python3",
      "display_name": "Python 3"
    },
    "language_info": {
      "name": "python"
    }
  },
  "cells": [
    {
      "cell_type": "markdown",
      "metadata": {
        "id": "view-in-github",
        "colab_type": "text"
      },
      "source": [
        "<a href=\"https://colab.research.google.com/github/VishalShende358/Library-managment-system/blob/main/Day_13_Time_and_Space_Complexity.ipynb\" target=\"_parent\"><img src=\"https://colab.research.google.com/assets/colab-badge.svg\" alt=\"Open In Colab\"/></a>"
      ]
    },
    {
      "cell_type": "markdown",
      "metadata": {
        "id": "sdIWLehmj9Sn"
      },
      "source": [
        "# How to compare the performance of different algorithms?\n",
        "\n",
        "Sometimes, there are more than one way to solve a problem. We need to learn how to compare the performance different algorithms and choose the best one to solve a particular problem. While analyzing an algorithm, we mostly consider two parameters:\n",
        "\n",
        "1. **Time complexity** : Time complexity of an algorithm quantifies the amount of time taken by an algorithm to run as a function of the length of the input.\n",
        "2. **Space complexity** : Space complexity of an algorithm quantifies the amount of space or memory taken by an algorithm to run as a function of the length of the input.\n",
        "\n",
        "Time and space complexity depends on lots of things like hardware, operating system, processors, etc. However, we don't consider any of these factors while analyzing the algorithm. We will only consider the time taken and space comsumed by an algorithm.\n",
        "\n",
        "## Time Complexity\n",
        "Lets start with a simple example. Suppose you are given a sorted list and an integer and you have to find if it exists in the list.\n",
        "\n",
        "Simple solution to this problem is to traverse the whole list and check if any element is equal to the integer that is given."
      ]
    },
    {
      "cell_type": "code",
      "source": [
        "a = [1, 3, 5, 8, 12, 13, 15, 16, 18, 20, 22, 30, 40, 50, 55, 67]\n",
        "\n",
        "value = 13"
      ],
      "metadata": {
        "id": "FcriSV8AVUzk"
      },
      "execution_count": null,
      "outputs": []
    },
    {
      "cell_type": "code",
      "source": [
        "list(range(len(a)))"
      ],
      "metadata": {
        "colab": {
          "base_uri": "https://localhost:8080/"
        },
        "id": "lUJs0Dd1XVFa",
        "outputId": "d233adc7-8008-4e17-f76c-eed51374ad18"
      },
      "execution_count": null,
      "outputs": [
        {
          "output_type": "execute_result",
          "data": {
            "text/plain": [
              "[0, 1, 2, 3, 4, 5, 6, 7, 8, 9, 10, 11, 12, 13, 14, 15]"
            ]
          },
          "metadata": {},
          "execution_count": 10
        }
      ]
    },
    {
      "cell_type": "markdown",
      "source": [
        "### **Mathod1**"
      ],
      "metadata": {
        "id": "kL9LiEHZ6jf_"
      }
    },
    {
      "cell_type": "code",
      "source": [
        "for i in range(len(a)):\n",
        "  if a[i] == 13:\n",
        "    print(i)"
      ],
      "metadata": {
        "colab": {
          "base_uri": "https://localhost:8080/"
        },
        "id": "XNUGXb53VkFs",
        "outputId": "2a4425a6-6ca8-4dba-a4a4-88b2bc37e865"
      },
      "execution_count": null,
      "outputs": [
        {
          "output_type": "stream",
          "name": "stdout",
          "text": [
            "5\n"
          ]
        }
      ]
    },
    {
      "cell_type": "markdown",
      "source": [
        "### **Mathod 2**"
      ],
      "metadata": {
        "id": "quMNvGlx6pI0"
      }
    },
    {
      "cell_type": "code",
      "source": [
        "a.index(13)"
      ],
      "metadata": {
        "colab": {
          "base_uri": "https://localhost:8080/"
        },
        "id": "--QCZ-YtV126",
        "outputId": "fcd3021d-1489-42ca-a8e6-596f288d11bd"
      },
      "execution_count": null,
      "outputs": [
        {
          "output_type": "execute_result",
          "data": {
            "text/plain": [
              "5"
            ]
          },
          "metadata": {},
          "execution_count": 4
        }
      ]
    },
    {
      "cell_type": "code",
      "source": [],
      "metadata": {
        "id": "ZUWMjr8KV3Iz"
      },
      "execution_count": null,
      "outputs": []
    },
    {
      "cell_type": "markdown",
      "metadata": {
        "id": "iYEWSoox1dmB"
      },
      "source": [
        "## Space Complexity\n",
        "\n",
        "The term Space Complexity is misused for Auxiliary Space at many places. Following are the correct definitions of Auxiliary Space and Space Complexity.\n",
        "\n",
        "Auxiliary Space is the extra space or temporary space used by an algorithm.\n",
        "\n",
        "Space Complexity of an algorithm is total space taken by the algorithm with respect to the input size. Space complexity includes both Auxiliary space and space used by input.\n",
        "\n",
        "Lets take a simple example. You want to calculate the sum of the numbers in a list."
      ]
    },
    {
      "cell_type": "code",
      "source": [
        "a = [1,2,3,4,5,6]\n",
        "\n",
        "k = 0\n",
        "for i in a:\n",
        "  k = k+i\n",
        "  print(k)"
      ],
      "metadata": {
        "colab": {
          "base_uri": "https://localhost:8080/"
        },
        "id": "b7TXpyykWk7q",
        "outputId": "5f0a30c0-c629-441c-d36e-7f4a1b6ed730"
      },
      "execution_count": null,
      "outputs": [
        {
          "output_type": "stream",
          "name": "stdout",
          "text": [
            "1\n",
            "3\n",
            "6\n",
            "10\n",
            "15\n",
            "21\n"
          ]
        }
      ]
    },
    {
      "cell_type": "code",
      "source": [
        "print(k)"
      ],
      "metadata": {
        "colab": {
          "base_uri": "https://localhost:8080/"
        },
        "id": "UVp-INAIWuIR",
        "outputId": "ec487507-eff7-454e-9403-b10176b6b909"
      },
      "execution_count": null,
      "outputs": [
        {
          "output_type": "stream",
          "name": "stdout",
          "text": [
            "21\n"
          ]
        }
      ]
    },
    {
      "cell_type": "code",
      "source": [],
      "metadata": {
        "id": "G8VrW26bYREd"
      },
      "execution_count": null,
      "outputs": []
    },
    {
      "cell_type": "markdown",
      "metadata": {
        "id": "w3lBdQnEA8vD"
      },
      "source": [
        "## Example\n",
        "\n",
        "You are given two lists A and B. A and B both contain 10 positive integers. You have to find the rectangle with the maximum area that can be formed using two integers (one as length and one as breadth) each one coming from one of these two lists."
      ]
    },
    {
      "cell_type": "markdown",
      "source": [
        "### **Mathod1**"
      ],
      "metadata": {
        "id": "OvhjI4EJY8Y_"
      }
    },
    {
      "cell_type": "code",
      "source": [
        "# Approach 1\n",
        "\n",
        "a = [1,11,4,9,16,2,23,45,77,15]\n",
        "b = [51,29,82,32,67,5,2,22,78,98]"
      ],
      "metadata": {
        "id": "cLeIbpQoYR-y"
      },
      "execution_count": null,
      "outputs": []
    },
    {
      "cell_type": "code",
      "source": [
        "k = []\n",
        "for i in a:\n",
        "  for j in b:\n",
        "    k.append(i*j)\n",
        "\n",
        "print((k))\n",
        "print(max(k))"
      ],
      "metadata": {
        "colab": {
          "base_uri": "https://localhost:8080/"
        },
        "id": "wXVrVON4Yi3w",
        "outputId": "84674ec5-0b07-4212-c334-7bbc43735658"
      },
      "execution_count": null,
      "outputs": [
        {
          "output_type": "stream",
          "name": "stdout",
          "text": [
            "[51, 29, 82, 32, 67, 5, 2, 22, 78, 98, 561, 319, 902, 352, 737, 55, 22, 242, 858, 1078, 204, 116, 328, 128, 268, 20, 8, 88, 312, 392, 459, 261, 738, 288, 603, 45, 18, 198, 702, 882, 816, 464, 1312, 512, 1072, 80, 32, 352, 1248, 1568, 102, 58, 164, 64, 134, 10, 4, 44, 156, 196, 1173, 667, 1886, 736, 1541, 115, 46, 506, 1794, 2254, 2295, 1305, 3690, 1440, 3015, 225, 90, 990, 3510, 4410, 3927, 2233, 6314, 2464, 5159, 385, 154, 1694, 6006, 7546, 765, 435, 1230, 480, 1005, 75, 30, 330, 1170, 1470]\n",
            "7546\n"
          ]
        }
      ]
    },
    {
      "cell_type": "markdown",
      "source": [
        "### **Mathod2**"
      ],
      "metadata": {
        "id": "NPKJLNFdZHqw"
      }
    },
    {
      "cell_type": "code",
      "source": [
        "max_a = 0\n",
        "for i in a:\n",
        "  if i > max_a:\n",
        "    max_a = i\n",
        "\n",
        "print(max_a)\n",
        "\n",
        "max_b = 0\n",
        "for i in b:\n",
        "  if i > max_b:\n",
        "    max_b = i\n",
        "\n",
        "print(max_b)\n",
        "\n",
        "print('max area :- ', max_a * max_b)"
      ],
      "metadata": {
        "colab": {
          "base_uri": "https://localhost:8080/"
        },
        "id": "j7OqtwYTY5F7",
        "outputId": "94c80ef9-8d8c-4e66-e296-d0e3fda098ae"
      },
      "execution_count": null,
      "outputs": [
        {
          "output_type": "stream",
          "name": "stdout",
          "text": [
            "77\n",
            "98\n",
            "max area :-  7546\n"
          ]
        }
      ]
    },
    {
      "cell_type": "code",
      "source": [],
      "metadata": {
        "id": "sOkFWTYfZl53"
      },
      "execution_count": null,
      "outputs": []
    },
    {
      "cell_type": "markdown",
      "source": [
        "### **Mathod3**"
      ],
      "metadata": {
        "id": "VPAWH4NwZmCF"
      }
    },
    {
      "cell_type": "code",
      "source": [
        "max_a = max(a)\n",
        "max_b = max(b)\n",
        "\n",
        "print('max area :- ', max_a * max_b)"
      ],
      "metadata": {
        "colab": {
          "base_uri": "https://localhost:8080/"
        },
        "id": "BdwRlwaaZvsJ",
        "outputId": "2257ef8c-8c5b-4e7b-8e08-6e12afd4a99b"
      },
      "execution_count": null,
      "outputs": [
        {
          "output_type": "stream",
          "name": "stdout",
          "text": [
            "max area :-  7546\n"
          ]
        }
      ]
    },
    {
      "cell_type": "code",
      "source": [],
      "metadata": {
        "id": "jggsL6IIZzLk"
      },
      "execution_count": null,
      "outputs": []
    },
    {
      "cell_type": "markdown",
      "source": [
        "### **Mathod4**"
      ],
      "metadata": {
        "id": "oNZVxNi1Z0RF"
      }
    },
    {
      "cell_type": "code",
      "source": [
        "print(max(a) * max(b))"
      ],
      "metadata": {
        "colab": {
          "base_uri": "https://localhost:8080/"
        },
        "id": "snu9lLrTZ0ui",
        "outputId": "3bc2ef2f-c9c8-4cc1-d5e7-245d4cced120"
      },
      "execution_count": null,
      "outputs": [
        {
          "output_type": "stream",
          "name": "stdout",
          "text": [
            "7546\n"
          ]
        }
      ]
    },
    {
      "cell_type": "markdown",
      "source": [
        "# **Fectorial**"
      ],
      "metadata": {
        "id": "iThX5BR5bgf6"
      }
    },
    {
      "cell_type": "code",
      "source": [
        "10*9*8*7*6*5*4*3*2*1"
      ],
      "metadata": {
        "colab": {
          "base_uri": "https://localhost:8080/"
        },
        "id": "BOIfKIsEgSnw",
        "outputId": "243c7652-76e2-4cf3-f9ab-6ac9f4dc7311"
      },
      "execution_count": null,
      "outputs": [
        {
          "output_type": "execute_result",
          "data": {
            "text/plain": [
              "3628800"
            ]
          },
          "metadata": {},
          "execution_count": 47
        }
      ]
    },
    {
      "cell_type": "code",
      "source": [
        "list(range(1,10+1))"
      ],
      "metadata": {
        "colab": {
          "base_uri": "https://localhost:8080/"
        },
        "id": "2hX5HYI3ga1A",
        "outputId": "b4002713-c160-4610-b44c-10913b419600"
      },
      "execution_count": null,
      "outputs": [
        {
          "output_type": "execute_result",
          "data": {
            "text/plain": [
              "[1, 2, 3, 4, 5, 6, 7, 8, 9, 10]"
            ]
          },
          "metadata": {},
          "execution_count": 49
        }
      ]
    },
    {
      "cell_type": "code",
      "source": [
        "n = 10\n",
        "k = 1\n",
        "for i in range(1,n+1):\n",
        "  k=k*i\n",
        "print(k)"
      ],
      "metadata": {
        "colab": {
          "base_uri": "https://localhost:8080/"
        },
        "id": "UJDJTrMgbfYK",
        "outputId": "dc7c6352-c824-41cf-c466-f5e29ef4bb6f"
      },
      "execution_count": null,
      "outputs": [
        {
          "output_type": "stream",
          "name": "stdout",
          "text": [
            "3628800\n"
          ]
        }
      ]
    },
    {
      "cell_type": "code",
      "source": [
        "import math\n",
        "math.factorial(10)"
      ],
      "metadata": {
        "colab": {
          "base_uri": "https://localhost:8080/"
        },
        "id": "ThkMRIw1bydk",
        "outputId": "c40c71eb-4c6c-4106-9e49-5e6524447974"
      },
      "execution_count": null,
      "outputs": [
        {
          "output_type": "execute_result",
          "data": {
            "text/plain": [
              "3628800"
            ]
          },
          "metadata": {},
          "execution_count": 50
        }
      ]
    },
    {
      "cell_type": "code",
      "source": [],
      "metadata": {
        "id": "xmIkTehPcEM6"
      },
      "execution_count": null,
      "outputs": []
    },
    {
      "cell_type": "markdown",
      "metadata": {
        "id": "wSyWACWruKp6"
      },
      "source": [
        "## **Memory**"
      ]
    },
    {
      "cell_type": "code",
      "source": [
        "import sys\n",
        "\n",
        "a = [1,2,3,4,'fsdjhakj']\n",
        "print(sys.getsizeof(a))\n",
        "print(len(a) * sys.getsizeof(a))"
      ],
      "metadata": {
        "colab": {
          "base_uri": "https://localhost:8080/"
        },
        "id": "7AqsgMuQcfhF",
        "outputId": "dd1f5005-2dee-4073-c7f2-e840c0cc5e0b"
      },
      "execution_count": null,
      "outputs": [
        {
          "output_type": "stream",
          "name": "stdout",
          "text": [
            "104\n",
            "520\n"
          ]
        }
      ]
    },
    {
      "cell_type": "code",
      "source": [
        "a = 100000\n",
        "print(sys.getsizeof(a))\n",
        "print(sys.getsizeof(a))"
      ],
      "metadata": {
        "colab": {
          "base_uri": "https://localhost:8080/"
        },
        "id": "NCedvrUvc6_q",
        "outputId": "4c73e995-d98c-4bad-d9bd-1f09d1fb45dd"
      },
      "execution_count": null,
      "outputs": [
        {
          "output_type": "stream",
          "name": "stdout",
          "text": [
            "28\n",
            "28\n"
          ]
        }
      ]
    },
    {
      "cell_type": "code",
      "source": [
        "a = 'rahul'\n",
        "print(sys.getsizeof(a))"
      ],
      "metadata": {
        "colab": {
          "base_uri": "https://localhost:8080/"
        },
        "id": "TUM4C6Gjc8kv",
        "outputId": "371c287f-259a-4725-801b-884eb4c8cea5"
      },
      "execution_count": null,
      "outputs": [
        {
          "output_type": "stream",
          "name": "stdout",
          "text": [
            "54\n"
          ]
        }
      ]
    },
    {
      "cell_type": "code",
      "source": [],
      "metadata": {
        "id": "L73KJVWVdB5g"
      },
      "execution_count": null,
      "outputs": []
    },
    {
      "cell_type": "markdown",
      "metadata": {
        "id": "UrtYOwhvuMue"
      },
      "source": [
        "## **Performance**"
      ]
    },
    {
      "cell_type": "code",
      "source": [
        "import time\n",
        "start_time = time.time()\n",
        "n = 10\n",
        "k = 1\n",
        "for i in range(1,n+1):\n",
        "  k=k*i\n",
        "print(k)\n",
        "\n",
        "end_time = time.time()\n",
        "print(end_time - start_time)\n"
      ],
      "metadata": {
        "colab": {
          "base_uri": "https://localhost:8080/"
        },
        "id": "I7SOGoz5d-qq",
        "outputId": "c0a5979e-8be6-4085-88d0-16988a77d46a"
      },
      "execution_count": null,
      "outputs": [
        {
          "output_type": "stream",
          "name": "stdout",
          "text": [
            "3628800\n",
            "0.0011782646179199219\n"
          ]
        }
      ]
    },
    {
      "cell_type": "code",
      "source": [
        "start_time = time.time()\n",
        "n = 1000\n",
        "k = 1\n",
        "for i in range(1,n+1):\n",
        "  k=k*i\n",
        "print(k)\n",
        "\n",
        "end_time = time.time()\n",
        "print(end_time - start_time)"
      ],
      "metadata": {
        "colab": {
          "base_uri": "https://localhost:8080/"
        },
        "id": "H8Vmrn-xeL3a",
        "outputId": "db05a757-cf76-4f14-d79e-4e20154f0095"
      },
      "execution_count": null,
      "outputs": [
        {
          "output_type": "stream",
          "name": "stdout",
          "text": [
            "402387260077093773543702433923003985719374864210714632543799910429938512398629020592044208486969404800479988610197196058631666872994808558901323829669944590997424504087073759918823627727188732519779505950995276120874975462497043601418278094646496291056393887437886487337119181045825783647849977012476632889835955735432513185323958463075557409114262417474349347553428646576611667797396668820291207379143853719588249808126867838374559731746136085379534524221586593201928090878297308431392844403281231558611036976801357304216168747609675871348312025478589320767169132448426236131412508780208000261683151027341827977704784635868170164365024153691398281264810213092761244896359928705114964975419909342221566832572080821333186116811553615836546984046708975602900950537616475847728421889679646244945160765353408198901385442487984959953319101723355556602139450399736280750137837615307127761926849034352625200015888535147331611702103968175921510907788019393178114194545257223865541461062892187960223838971476088506276862967146674697562911234082439208160153780889893964518263243671616762179168909779911903754031274622289988005195444414282012187361745992642956581746628302955570299024324153181617210465832036786906117260158783520751516284225540265170483304226143974286933061690897968482590125458327168226458066526769958652682272807075781391858178889652208164348344825993266043367660176999612831860788386150279465955131156552036093988180612138558600301435694527224206344631797460594682573103790084024432438465657245014402821885252470935190620929023136493273497565513958720559654228749774011413346962715422845862377387538230483865688976461927383814900140767310446640259899490222221765904339901886018566526485061799702356193897017860040811889729918311021171229845901641921068884387121855646124960798722908519296819372388642614839657382291123125024186649353143970137428531926649875337218940694281434118520158014123344828015051399694290153483077644569099073152433278288269864602789864321139083506217095002597389863554277196742822248757586765752344220207573630569498825087968928162753848863396909959826280956121450994871701244516461260379029309120889086942028510640182154399457156805941872748998094254742173582401063677404595741785160829230135358081840096996372524230560855903700624271243416909004153690105933983835777939410970027753472000000000000000000000000000000000000000000000000000000000000000000000000000000000000000000000000000000000000000000000000000000000000000000000000000000000000000000000000000000000000000000000000000000000000000000000000000000000000000000000000000000000\n",
            "0.0029845237731933594\n"
          ]
        }
      ]
    },
    {
      "cell_type": "code",
      "source": [
        "start_time = time.time()\n",
        "\n",
        "print(math.factorial(1000))\n",
        "\n",
        "end_time = time.time()\n",
        "print(end_time - start_time)"
      ],
      "metadata": {
        "colab": {
          "base_uri": "https://localhost:8080/"
        },
        "id": "n8IHvqobeQUk",
        "outputId": "fa8bb3f2-5809-45a6-a2d3-c8d1466329ef"
      },
      "execution_count": null,
      "outputs": [
        {
          "output_type": "stream",
          "name": "stdout",
          "text": [
            "402387260077093773543702433923003985719374864210714632543799910429938512398629020592044208486969404800479988610197196058631666872994808558901323829669944590997424504087073759918823627727188732519779505950995276120874975462497043601418278094646496291056393887437886487337119181045825783647849977012476632889835955735432513185323958463075557409114262417474349347553428646576611667797396668820291207379143853719588249808126867838374559731746136085379534524221586593201928090878297308431392844403281231558611036976801357304216168747609675871348312025478589320767169132448426236131412508780208000261683151027341827977704784635868170164365024153691398281264810213092761244896359928705114964975419909342221566832572080821333186116811553615836546984046708975602900950537616475847728421889679646244945160765353408198901385442487984959953319101723355556602139450399736280750137837615307127761926849034352625200015888535147331611702103968175921510907788019393178114194545257223865541461062892187960223838971476088506276862967146674697562911234082439208160153780889893964518263243671616762179168909779911903754031274622289988005195444414282012187361745992642956581746628302955570299024324153181617210465832036786906117260158783520751516284225540265170483304226143974286933061690897968482590125458327168226458066526769958652682272807075781391858178889652208164348344825993266043367660176999612831860788386150279465955131156552036093988180612138558600301435694527224206344631797460594682573103790084024432438465657245014402821885252470935190620929023136493273497565513958720559654228749774011413346962715422845862377387538230483865688976461927383814900140767310446640259899490222221765904339901886018566526485061799702356193897017860040811889729918311021171229845901641921068884387121855646124960798722908519296819372388642614839657382291123125024186649353143970137428531926649875337218940694281434118520158014123344828015051399694290153483077644569099073152433278288269864602789864321139083506217095002597389863554277196742822248757586765752344220207573630569498825087968928162753848863396909959826280956121450994871701244516461260379029309120889086942028510640182154399457156805941872748998094254742173582401063677404595741785160829230135358081840096996372524230560855903700624271243416909004153690105933983835777939410970027753472000000000000000000000000000000000000000000000000000000000000000000000000000000000000000000000000000000000000000000000000000000000000000000000000000000000000000000000000000000000000000000000000000000000000000000000000000000000000000000000000000000000\n",
            "0.0004088878631591797\n"
          ]
        }
      ]
    },
    {
      "cell_type": "code",
      "source": [
        "start_time = time.time()\n",
        "\n",
        "\n",
        "max_a = 0\n",
        "for i in a:\n",
        "  if i > max_a:\n",
        "    max_a = i\n",
        "\n",
        "print(max_a)\n",
        "\n",
        "max_b = 0\n",
        "for i in b:\n",
        "  if i > max_b:\n",
        "    max_b = i\n",
        "\n",
        "print(max_b)\n",
        "\n",
        "print('max area :- ', max_a * max_b)\n",
        "\n",
        "end_time = time.time()\n",
        "print(end_time - start_time)"
      ],
      "metadata": {
        "colab": {
          "base_uri": "https://localhost:8080/"
        },
        "id": "8D7ubkeRfCV7",
        "outputId": "b5e66560-19f5-4928-cda0-8e6f60ee2bb0"
      },
      "execution_count": null,
      "outputs": [
        {
          "output_type": "stream",
          "name": "stdout",
          "text": [
            "77\n",
            "98\n",
            "max area :-  7546\n",
            "0.0032858848571777344\n"
          ]
        }
      ]
    },
    {
      "cell_type": "code",
      "source": [
        "start_time = time.time()\n",
        "\n",
        "print(max(a) * max(b))\n",
        "\n",
        "end_time = time.time()\n",
        "print(end_time - start_time)"
      ],
      "metadata": {
        "colab": {
          "base_uri": "https://localhost:8080/"
        },
        "id": "T5EGB8cpfXyu",
        "outputId": "e8af41ee-c425-4dd2-c76e-3bd3d5f61631"
      },
      "execution_count": null,
      "outputs": [
        {
          "output_type": "stream",
          "name": "stdout",
          "text": [
            "7546\n",
            "0.0010368824005126953\n"
          ]
        }
      ]
    },
    {
      "cell_type": "code",
      "source": [
        "a = [1,2,3,4,5,6,7,8,9,10]\n",
        "\n",
        "for i in a:\n",
        "  print('value of i is ',i)"
      ],
      "metadata": {
        "colab": {
          "base_uri": "https://localhost:8080/"
        },
        "id": "Prgz2jTEinnC",
        "outputId": "6c9f2764-ab91-4862-c746-e753b1909e0f"
      },
      "execution_count": null,
      "outputs": [
        {
          "output_type": "stream",
          "name": "stdout",
          "text": [
            "value of i is  1\n",
            "value of i is  2\n",
            "value of i is  3\n",
            "value of i is  4\n",
            "value of i is  5\n",
            "value of i is  6\n",
            "value of i is  7\n",
            "value of i is  8\n",
            "value of i is  9\n",
            "value of i is  10\n"
          ]
        }
      ]
    },
    {
      "cell_type": "code",
      "source": [
        "n = 10\n",
        "while n<15:\n",
        "  print(n)\n",
        "  n = n+1"
      ],
      "metadata": {
        "colab": {
          "base_uri": "https://localhost:8080/"
        },
        "id": "OAZv6QeWi5ik",
        "outputId": "86b5c0fe-421c-41b4-b8ec-4b20f42ce7f2"
      },
      "execution_count": null,
      "outputs": [
        {
          "output_type": "stream",
          "name": "stdout",
          "text": [
            "10\n",
            "11\n",
            "12\n",
            "13\n",
            "14\n"
          ]
        }
      ]
    }
  ]
}