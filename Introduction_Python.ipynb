{
  "nbformat": 4,
  "nbformat_minor": 0,
  "metadata": {
    "colab": {
      "provenance": [],
      "authorship_tag": "ABX9TyP+a7TyDb6aFquHrOEWaels",
      "include_colab_link": true
    },
    "kernelspec": {
      "name": "python3",
      "display_name": "Python 3"
    },
    "language_info": {
      "name": "python"
    }
  },
  "cells": [
    {
      "cell_type": "markdown",
      "metadata": {
        "id": "view-in-github",
        "colab_type": "text"
      },
      "source": [
        "<a href=\"https://colab.research.google.com/github/VishalShende358/Library-managment-system/blob/main/Introduction_Python.ipynb\" target=\"_parent\"><img src=\"https://colab.research.google.com/assets/colab-badge.svg\" alt=\"Open In Colab\"/></a>"
      ]
    },
    {
      "cell_type": "markdown",
      "source": [
        "# Introduction\n",
        "### Define:- **Python is an open source,object oriented, high level,intrepreted general purpose programing language.**\n",
        "\n",
        "- Python was created by **\"Guido-Van Rossum\"**is father of Python made in 1989. At National Research Institute at Netherland.\n",
        "\n",
        "- Python can be used to build almost any type of application with right tools/libraries and Python support object,module ,threads ,exceptional Handling and automatic memory management with the help in modeling real-world problem and building application to solve this problem.\n",
        "- Python also used in Machine learning,Web scraping,Web Developement,Games,Data Analysis,Artificial Intelligent,Data Science,Scientific Computing and more.\n",
        "- It has a large standard library and a vast ecosystem of third-party packages, makin it highly extensible and adaptable to various domain."
      ],
      "metadata": {
        "id": "Uc9DfiP57OcR"
      }
    },
    {
      "cell_type": "markdown",
      "source": [
        "# Feature of Python\n",
        "\n",
        "- 1) **Easy-to-learn syntax:-**Python is designed to have a clean and readable syntax that reduces the complexity of code.\n",
        "- 2) **Freeware and open source:-** It is an open source it means that source code is also available to the public in free of cost,so you can download its free as well as share also free.\n",
        "- 3) **High level programming language:-** In Python no need to take care about low level language details such as managing the memory used by the program.\n",
        "- 4) **Platform Independent:-** If a write a coding or programme in one platform to send a file or code in other platform like mac,linux and it will be learn.\n",
        "- 5) **Portability:-** Easy to portable in one place to another like mobile,laptop,data transfer.\n",
        "- 6) **Dynamic Type:-** Data types are checked during execution.No need to declare anything an assignment statement binds a name to an object and the object can be of any type.\n",
        "\n",
        "   eg:-\n",
        "         a=10\n",
        "         b=20\n",
        "        sum=a+b\n",
        "- 6) **Interpreted & Compiler:-** Python is an interpreted language meaning that it does not require compilation.It is executed line by line at runtime, which allows for faster development cycles.\n",
        "- 7) **Large Community and ecosystem:-** Python has a vibrant and supportive community of developer contributing to its extensive collection of libraries and frameworks."
      ],
      "metadata": {
        "id": "8RvL-5jI-jja"
      }
    },
    {
      "cell_type": "markdown",
      "source": [
        "### Que:- What is Memory Management in Python?\n",
        "Ans:- Python Memory management is use te dynamic memory allocation which is managed by private heap data structure. All the Python object and data structure are located in a private heap space.The programmer does not have access to this private heap.\n",
        "- The Python interpreter to takes python memory manager.\n",
        "- The Python Memory Manager to manages the allocation and deallocation of heap space of the object through the API function.\n",
        "- The core API gives access to some tools for the programmer to code.\n",
        "- Python also have an inbuilt garbage collector which recycle all the unused memory and so that it can be made available the heap space.\n"
      ],
      "metadata": {
        "id": "tvkD-x27DjjI"
      }
    },
    {
      "cell_type": "markdown",
      "source": [
        "#### Que:- What is PEP8?\n",
        "Ans:- Python Enhancement proposal is a set of coding guidlines in Python programming language that programmers can use to write readable code which make it easy to use for other user.\n",
        "- It is document provide guidlines to improve the readability of python code.\n",
        "- The code can be written in a few minute ,few hours,or whole day but ones we have written the code we will never rewrite again but sometime we need to read the code again and again.\n",
        "- At this point we must have idea of why we wrote particular line in the code.\n",
        "- A PEP is a design document providing information to the Python community or describing a new feature for python or its processes or envirnment."
      ],
      "metadata": {
        "id": "_digS6YmDc0G"
      }
    },
    {
      "cell_type": "markdown",
      "source": [
        "## Variables\n",
        "Variables are used to store and manipulate data. They act as containers that hold values, which can be of different types such as numbers, strings, lists, or objects. Here's an explanation of variables in Python with examples:\n",
        "\n",
        "**Variable Declaration and Assignment:**\n",
        "\n",
        "To declare and assign a value to a variable in Python, you simply write the variable name followed by an equals sign (=) and the value you want to assign. Here's an example:"
      ],
      "metadata": {
        "id": "xtL7LcJSDWcQ"
      }
    },
    {
      "cell_type": "code",
      "source": [
        "# Variable declaration and assignment\n",
        "a = 85\n",
        "b = 75\n",
        "c = 25"
      ],
      "metadata": {
        "id": "FcdlBh0yN-G-"
      },
      "execution_count": 1,
      "outputs": []
    },
    {
      "cell_type": "code",
      "source": [
        "# Let's Print the Values of these Variables\n",
        "\n",
        "print(a)\n",
        "print(b)\n",
        "print(c)"
      ],
      "metadata": {
        "colab": {
          "base_uri": "https://localhost:8080/"
        },
        "id": "bLXr1YMZOFFM",
        "outputId": "01fb2bac-9741-45d8-af04-74c42e6cc100"
      },
      "execution_count": 2,
      "outputs": [
        {
          "output_type": "stream",
          "name": "stdout",
          "text": [
            "85\n",
            "75\n",
            "25\n"
          ]
        }
      ]
    },
    {
      "cell_type": "markdown",
      "source": [
        "**Variable Naming Rules:**\n",
        "\n",
        "* A variable name can contain letters (a-z, A-Z), digits (0-9), and underscores (_). It must start with a letter or an underscore.\n",
        "* The Variable name cannot start with a Number.\n",
        "* A variable name can only contain alphanumeric characters and underscores.\n",
        "* Variables names are case sensitive.\n",
        "* It cannot be a reserved keyword in Python (e.g., if, for, while, etc.).\n",
        "* Avoid using special characters or spaces in variable names."
      ],
      "metadata": {
        "id": "mhwK-Obh7_7R"
      }
    },
    {
      "cell_type": "code",
      "source": [
        "#both of these variables will get accepted as both of them are following the rule.\n",
        "data = 2\n",
        "_data = 2"
      ],
      "metadata": {
        "id": "t-R8QbScOWBl"
      },
      "execution_count": 3,
      "outputs": []
    },
    {
      "cell_type": "code",
      "source": [
        "# 4data cannot be accepted as a variable, as the variable name starts with a number\n",
        "\n",
        "4data = 9"
      ],
      "metadata": {
        "colab": {
          "base_uri": "https://localhost:8080/",
          "height": 106
        },
        "id": "2lghQDQ1OgEu",
        "outputId": "586ba09c-e80b-49ae-cd87-759222450e4a"
      },
      "execution_count": 4,
      "outputs": [
        {
          "output_type": "error",
          "ename": "SyntaxError",
          "evalue": "invalid decimal literal (<ipython-input-4-5c08426754ed>, line 3)",
          "traceback": [
            "\u001b[0;36m  File \u001b[0;32m\"<ipython-input-4-5c08426754ed>\"\u001b[0;36m, line \u001b[0;32m3\u001b[0m\n\u001b[0;31m    4data = 9\u001b[0m\n\u001b[0m    ^\u001b[0m\n\u001b[0;31mSyntaxError\u001b[0m\u001b[0;31m:\u001b[0m invalid decimal literal\n"
          ]
        }
      ]
    },
    {
      "cell_type": "code",
      "source": [
        "# Variable names can only contain alphanumeric characters and underscores\n",
        "\n",
        "4% = 5"
      ],
      "metadata": {
        "colab": {
          "base_uri": "https://localhost:8080/",
          "height": 106
        },
        "id": "ZyTVB7zROmVc",
        "outputId": "13d813e9-2e08-4479-9113-9591424fc338"
      },
      "execution_count": 5,
      "outputs": [
        {
          "output_type": "error",
          "ename": "SyntaxError",
          "evalue": "invalid syntax (<ipython-input-5-30406c75c70b>, line 3)",
          "traceback": [
            "\u001b[0;36m  File \u001b[0;32m\"<ipython-input-5-30406c75c70b>\"\u001b[0;36m, line \u001b[0;32m3\u001b[0m\n\u001b[0;31m    4% = 5\u001b[0m\n\u001b[0m       ^\u001b[0m\n\u001b[0;31mSyntaxError\u001b[0m\u001b[0;31m:\u001b[0m invalid syntax\n"
          ]
        }
      ]
    },
    {
      "cell_type": "code",
      "source": [
        "# variable names are case sensitive, Here both data & DATA are different variable storing different values.\n",
        "\n",
        "data = 5\n",
        "DATA = 10\n",
        "\n",
        "print(data)\n",
        "print(DATA)"
      ],
      "metadata": {
        "colab": {
          "base_uri": "https://localhost:8080/"
        },
        "id": "8GRLbqIJOpoW",
        "outputId": "d9784d8c-e497-48aa-c9e8-32f7674f2143"
      },
      "execution_count": 6,
      "outputs": [
        {
          "output_type": "stream",
          "name": "stdout",
          "text": [
            "5\n",
            "10\n"
          ]
        }
      ]
    },
    {
      "cell_type": "markdown",
      "source": [
        "# Data Types and Type Casting"
      ],
      "metadata": {
        "id": "BdTHXsK2O7Gp"
      }
    },
    {
      "cell_type": "markdown",
      "source": [
        "**Variable Types:**\n",
        "\n",
        "Variables in Python can hold values of different types:\n",
        "* Integer\n",
        "* Float\n",
        "* String\n"
      ],
      "metadata": {
        "id": "UUdRn6kwO9M1"
      }
    },
    {
      "cell_type": "code",
      "source": [
        "# Lets try to assign to assign some variables with different data types\n",
        "\n",
        "x = 4\n",
        "y = 'india'\n",
        "z = 3.5\n",
        "\n",
        "print(x)\n",
        "print(y)\n",
        "print(z)"
      ],
      "metadata": {
        "colab": {
          "base_uri": "https://localhost:8080/"
        },
        "id": "xk9I4fwcO2NM",
        "outputId": "5af91c7e-8d1b-4f11-b2ed-e4f24f151da0"
      },
      "execution_count": 7,
      "outputs": [
        {
          "output_type": "stream",
          "name": "stdout",
          "text": [
            "4\n",
            "india\n",
            "3.5\n"
          ]
        }
      ]
    },
    {
      "cell_type": "code",
      "source": [
        "print(type(x))\n",
        "print(type(y))\n",
        "print(type(z))"
      ],
      "metadata": {
        "colab": {
          "base_uri": "https://localhost:8080/"
        },
        "id": "vigUezZsO1qm",
        "outputId": "0cf1244b-2c40-4806-c6a5-83717b7e577f"
      },
      "execution_count": 8,
      "outputs": [
        {
          "output_type": "stream",
          "name": "stdout",
          "text": [
            "<class 'int'>\n",
            "<class 'str'>\n",
            "<class 'float'>\n"
          ]
        }
      ]
    },
    {
      "cell_type": "markdown",
      "source": [
        "# Type Casting\n",
        "\n",
        "Type casting in Python refers to the process of converting the data type of a variable or value from one type to another. Python provides built-in functions that allow you to perform type casting. The commonly used type casting functions in Python include:"
      ],
      "metadata": {
        "id": "hV9pCA39PTkT"
      }
    },
    {
      "cell_type": "code",
      "source": [
        "# Let's initialize a variable named x\n",
        "\n",
        "x = 4\n",
        "print(type(x))"
      ],
      "metadata": {
        "colab": {
          "base_uri": "https://localhost:8080/"
        },
        "id": "M8IzLfjzO1SY",
        "outputId": "96453ffb-3fed-4280-fa7b-f73839e167de"
      },
      "execution_count": 9,
      "outputs": [
        {
          "output_type": "stream",
          "name": "stdout",
          "text": [
            "<class 'int'>\n"
          ]
        }
      ]
    },
    {
      "cell_type": "code",
      "source": [
        "#let's typecast the variable x into a string datatype\n",
        "\n",
        "x = str(x)\n",
        "print(type(x))"
      ],
      "metadata": {
        "colab": {
          "base_uri": "https://localhost:8080/"
        },
        "id": "pcl5NATeO0ps",
        "outputId": "42678161-9562-4538-ca28-dd485a6bc800"
      },
      "execution_count": 10,
      "outputs": [
        {
          "output_type": "stream",
          "name": "stdout",
          "text": [
            "<class 'str'>\n"
          ]
        }
      ]
    },
    {
      "cell_type": "markdown",
      "source": [
        "# Scope of Variables"
      ],
      "metadata": {
        "id": "JGX-shmZPsVF"
      }
    },
    {
      "cell_type": "markdown",
      "source": [
        "## Local Variables\n",
        "\n",
        " * A local variable is a variable that is defined within the scope of a function or a block of code. Local variables are only accessible within the block or function where they are defined. They have a limited lifespan and exist only as long as the block or function is being executed.\n"
      ],
      "metadata": {
        "id": "8xwnfbuBP2st"
      }
    },
    {
      "cell_type": "code",
      "source": [
        "def my_function():\n",
        "    a = 10  # a is a local variable defined within the function\n",
        "    print(a)\n",
        "\n",
        "my_function()  # Output: 10\n",
        "\n",
        "# Trying to access the local variable outside the function will result in an error\n",
        "print(a)  # Raises NameError: name 'a' is not defined"
      ],
      "metadata": {
        "colab": {
          "base_uri": "https://localhost:8080/"
        },
        "id": "LhGeS6wCOymJ",
        "outputId": "c8b0e47f-4bb6-4dc1-d2aa-f24591e45787"
      },
      "execution_count": 11,
      "outputs": [
        {
          "output_type": "stream",
          "name": "stdout",
          "text": [
            "10\n",
            "85\n"
          ]
        }
      ]
    },
    {
      "cell_type": "markdown",
      "source": [
        "### Global Variables\n",
        "\n",
        "* Global Variables are Variables which are created Outside of the Function. But, They can accessed from anywhere.\n"
      ],
      "metadata": {
        "id": "76nroNgjQgS9"
      }
    },
    {
      "cell_type": "code",
      "source": [
        "# Example for Global Scope of Variables\n",
        "\n",
        "x = 27.63\n",
        "\n",
        "def function():\n",
        "    print(x)\n",
        "\n",
        "function()  # here, we are able to access variable from outside of the variable"
      ],
      "metadata": {
        "colab": {
          "base_uri": "https://localhost:8080/"
        },
        "id": "FoN4QSkvOvds",
        "outputId": "b3a8cd33-afa3-465c-d023-b9b0eb4aea9c"
      },
      "execution_count": 12,
      "outputs": [
        {
          "output_type": "stream",
          "name": "stdout",
          "text": [
            "27.63\n"
          ]
        }
      ]
    },
    {
      "cell_type": "code",
      "source": [
        "x = 89564.23\n",
        "\n",
        "def function():\n",
        "    x = 78\n",
        "    print(x)\n",
        "\n",
        "function()  # here, we are able to access the local variable"
      ],
      "metadata": {
        "colab": {
          "base_uri": "https://localhost:8080/"
        },
        "id": "UXcrXrqmOvvM",
        "outputId": "b2f0fd9c-91bd-4a11-d1d5-21d75349c78e"
      },
      "execution_count": 13,
      "outputs": [
        {
          "output_type": "stream",
          "name": "stdout",
          "text": [
            "78\n"
          ]
        }
      ]
    },
    {
      "cell_type": "markdown",
      "source": [
        "### The Global Keyword\n",
        "\n",
        "* Normally, when you create a variable inside a function, that variable is local, and can only be used inside that function.\n",
        "\n",
        "* To create a global variable inside a function, you can use the global keyword."
      ],
      "metadata": {
        "id": "p1nKvS9fQ4q9"
      }
    },
    {
      "cell_type": "code",
      "source": [
        "def function():\n",
        "    global x\n",
        "    x = \"Awesome\"\n",
        "    print(x)\n",
        "\n",
        "function()\n",
        "print(x)"
      ],
      "metadata": {
        "colab": {
          "base_uri": "https://localhost:8080/"
        },
        "id": "fqiIAi65Ovyr",
        "outputId": "8e32f102-209f-4f7a-b9d6-988b12cfad27"
      },
      "execution_count": 14,
      "outputs": [
        {
          "output_type": "stream",
          "name": "stdout",
          "text": [
            "Awesome\n",
            "Awesome\n"
          ]
        }
      ]
    },
    {
      "cell_type": "markdown",
      "source": [
        "# Operators in Python\n",
        "\n",
        "* In Python, operators are special symbols or characters that are used to perform operations on operands (variables, values, or expressions). They allow you to perform mathematical, logical, comparison, assignment, and other operations in your code."
      ],
      "metadata": {
        "id": "ng_coTanRLNW"
      }
    },
    {
      "cell_type": "markdown",
      "source": [
        "**Types of Operator**\n",
        "\n",
        "- **1) Arithmetic Operator**\n",
        "- **2) Comparison Operator**\n",
        "- **3) Assignment Operator**\n",
        "- **4) Logical Operator**\n",
        "- **5) Identity Operator**\n",
        "- **6) Membership Operator**\n",
        "- **7) Bitwise Operator**"
      ],
      "metadata": {
        "id": "sJSu5r-jRfg2"
      }
    },
    {
      "cell_type": "markdown",
      "source": [
        "# Arithematic Operators\n",
        "Arithmetic operators are used in Python to perform basic mathematical calculations. They operate on numerical values and return a new value as a result.\n",
        "\n",
        "- **1 Addition +**\n",
        "- **2 Subtraction -**\n",
        "- **3 Multiplication ***\n",
        "- **4 Division /**\n",
        "- **5 Modulus %**\n",
        "- **6 Exponent ****\n",
        "- **7 Floor Division //**"
      ],
      "metadata": {
        "id": "SeOflctiSdAX"
      }
    },
    {
      "cell_type": "markdown",
      "source": [
        "## 1. Addition Operator\n",
        "Addition operator adds two values.\n",
        "### x+y"
      ],
      "metadata": {
        "id": "m6eK9vbnTd_Z"
      }
    },
    {
      "cell_type": "code",
      "source": [
        "# Adding two numbers\n",
        "\n",
        "x = 5\n",
        "y = 8\n",
        "\n",
        "z = x + y\n",
        "\n",
        "print(z)"
      ],
      "metadata": {
        "colab": {
          "base_uri": "https://localhost:8080/"
        },
        "id": "PfLpq3r6Ov5X",
        "outputId": "800d052b-699f-42ba-8d73-d5ef5ac3574b"
      },
      "execution_count": 15,
      "outputs": [
        {
          "output_type": "stream",
          "name": "stdout",
          "text": [
            "13\n"
          ]
        }
      ]
    },
    {
      "cell_type": "code",
      "source": [
        "# Adding two numbers\n",
        "\n",
        "x = 100\n",
        "y = 246\n",
        "\n",
        "z = x + y\n",
        "\n",
        "print(z)"
      ],
      "metadata": {
        "colab": {
          "base_uri": "https://localhost:8080/"
        },
        "id": "j0B_qffkOv8g",
        "outputId": "f0da1753-a080-4310-fdff-9596793549ae"
      },
      "execution_count": 16,
      "outputs": [
        {
          "output_type": "stream",
          "name": "stdout",
          "text": [
            "346\n"
          ]
        }
      ]
    },
    {
      "cell_type": "markdown",
      "source": [
        "## 2. Subtraction Operator\n",
        "\n",
        "Subtraction Operator subtracts two values.\n"
      ],
      "metadata": {
        "id": "Acf8RhURT-ln"
      }
    },
    {
      "cell_type": "code",
      "source": [
        "# Lets Subtract two Values\n",
        "\n",
        "x = 200\n",
        "y = 100\n",
        "\n",
        "z = x - y\n",
        "\n",
        "print(z)"
      ],
      "metadata": {
        "colab": {
          "base_uri": "https://localhost:8080/"
        },
        "id": "St2t2IntOv_y",
        "outputId": "48954f06-aa14-4e6b-e321-68a0cfa9ff36"
      },
      "execution_count": 17,
      "outputs": [
        {
          "output_type": "stream",
          "name": "stdout",
          "text": [
            "100\n"
          ]
        }
      ]
    },
    {
      "cell_type": "code",
      "source": [
        "# Let's take one more example\n",
        "\n",
        "x = 100\n",
        "y = 300\n",
        "\n",
        "z = x - y\n",
        "\n",
        "print(z)"
      ],
      "metadata": {
        "colab": {
          "base_uri": "https://localhost:8080/"
        },
        "id": "BespFHKPOwDd",
        "outputId": "b86a9682-81a3-47f7-d3cc-7fa34792257f"
      },
      "execution_count": 18,
      "outputs": [
        {
          "output_type": "stream",
          "name": "stdout",
          "text": [
            "-200\n"
          ]
        }
      ]
    },
    {
      "cell_type": "markdown",
      "source": [
        "## 3. Multiplication Operator\n",
        "Multiplication operator multiplies two values.\n",
        "### x*y"
      ],
      "metadata": {
        "id": "agGwYDiYUQce"
      }
    },
    {
      "cell_type": "code",
      "source": [
        "# multiplies two values\n",
        "\n",
        "x = 50\n",
        "y = 30\n",
        "\n",
        "z = x*y\n",
        "\n",
        "print(z)"
      ],
      "metadata": {
        "colab": {
          "base_uri": "https://localhost:8080/"
        },
        "id": "6tM1XxEZOwZ-",
        "outputId": "dab2da6d-adb9-4f46-b84e-d66bd2268d42"
      },
      "execution_count": 19,
      "outputs": [
        {
          "output_type": "stream",
          "name": "stdout",
          "text": [
            "1500\n"
          ]
        }
      ]
    },
    {
      "cell_type": "code",
      "source": [
        "# Multiplication Example\n",
        "\n",
        "x = 387\n",
        "y = 4\n",
        "\n",
        "z = x*y\n",
        "\n",
        "print(z)"
      ],
      "metadata": {
        "colab": {
          "base_uri": "https://localhost:8080/"
        },
        "id": "aw9F-ma5USfd",
        "outputId": "674578a7-0c86-46b5-f4f9-ca341313eef4"
      },
      "execution_count": 20,
      "outputs": [
        {
          "output_type": "stream",
          "name": "stdout",
          "text": [
            "1548\n"
          ]
        }
      ]
    },
    {
      "cell_type": "markdown",
      "source": [
        "## 4. Dividend Operator\n",
        "Dividend operator divides one operand by another.\n",
        "### x/y"
      ],
      "metadata": {
        "id": "t1VpubziUimc"
      }
    },
    {
      "cell_type": "code",
      "source": [
        "# let's take an example\n",
        "\n",
        "x = 45\n",
        "y = 3\n",
        "\n",
        "z = x/y\n",
        "\n",
        "print(z)"
      ],
      "metadata": {
        "colab": {
          "base_uri": "https://localhost:8080/"
        },
        "id": "oablL_joUSi8",
        "outputId": "3c7bd025-ef51-448e-b9ea-28d222ca7a62"
      },
      "execution_count": 21,
      "outputs": [
        {
          "output_type": "stream",
          "name": "stdout",
          "text": [
            "15.0\n"
          ]
        }
      ]
    },
    {
      "cell_type": "code",
      "source": [
        "# let's take one more example\n",
        "\n",
        "x = 764\n",
        "y = 56\n",
        "\n",
        "z = x/y\n",
        "\n",
        "print(z)"
      ],
      "metadata": {
        "id": "Dre5QTtIUSmA"
      },
      "execution_count": null,
      "outputs": []
    },
    {
      "cell_type": "markdown",
      "source": [
        "## 5. Modulus Operator\n",
        "\n",
        " The Modulus Operators Returns the Remainder of the division between two operands/Values.\n",
        "\n",
        " x%y"
      ],
      "metadata": {
        "id": "tJ9zfwkeUyG3"
      }
    },
    {
      "cell_type": "code",
      "source": [
        "# Let's take an example to understand the Modulus Operator\n",
        "\n",
        "x = 10\n",
        "y = 3\n",
        "\n",
        "z = x%y\n",
        "\n",
        "print(z)"
      ],
      "metadata": {
        "colab": {
          "base_uri": "https://localhost:8080/"
        },
        "id": "owjiwjorUSvH",
        "outputId": "118b301b-42f4-477c-b95f-85ad17561c91"
      },
      "execution_count": 22,
      "outputs": [
        {
          "output_type": "stream",
          "name": "stdout",
          "text": [
            "1\n"
          ]
        }
      ]
    },
    {
      "cell_type": "code",
      "source": [
        "# Let's take one more example\n",
        "\n",
        "x = 10\n",
        "y = 4\n",
        "\n",
        "z = x%y\n",
        "\n",
        "print(z)"
      ],
      "metadata": {
        "colab": {
          "base_uri": "https://localhost:8080/"
        },
        "id": "L4SpnToZUSy0",
        "outputId": "c7356b5d-5dda-4017-837b-336f6dc581ce"
      },
      "execution_count": 23,
      "outputs": [
        {
          "output_type": "stream",
          "name": "stdout",
          "text": [
            "2\n"
          ]
        }
      ]
    },
    {
      "cell_type": "markdown",
      "source": [
        "## 6. Exponent Operator\n",
        "Exponent Operator raises the power of left operand to the right operand.\n",
        "### x**y"
      ],
      "metadata": {
        "id": "akQzjKIbVBNQ"
      }
    },
    {
      "cell_type": "code",
      "source": [
        "# Let's take an example for Exponent Operator\n",
        "\n",
        "x = 2\n",
        "y = 3\n",
        "\n",
        "z = x**y\n",
        "\n",
        "print(z)"
      ],
      "metadata": {
        "colab": {
          "base_uri": "https://localhost:8080/"
        },
        "id": "HhOkUJwRUS2U",
        "outputId": "9ae17d0a-4d27-4945-b11e-89e58927256e"
      },
      "execution_count": 24,
      "outputs": [
        {
          "output_type": "stream",
          "name": "stdout",
          "text": [
            "8\n"
          ]
        }
      ]
    },
    {
      "cell_type": "code",
      "source": [
        "# Let's take one more example\n",
        "\n",
        "x = 2\n",
        "y = 4\n",
        "\n",
        "z = x**y\n",
        "\n",
        "print(z)"
      ],
      "metadata": {
        "colab": {
          "base_uri": "https://localhost:8080/"
        },
        "id": "KIxb1q6rOwdM",
        "outputId": "d6967651-c9b4-4584-bb26-ffaeaa886efb"
      },
      "execution_count": 25,
      "outputs": [
        {
          "output_type": "stream",
          "name": "stdout",
          "text": [
            "16\n"
          ]
        }
      ]
    },
    {
      "cell_type": "markdown",
      "source": [
        "## 7. Floor Division Operator\n",
        "Floor division operator returns quotient rounded off to the nearest integer.\n",
        "### x//y"
      ],
      "metadata": {
        "id": "WXuPrBpRVT4T"
      }
    },
    {
      "cell_type": "code",
      "source": [
        "# Let's take an example for floor division operator\n",
        "\n",
        "x = 13\n",
        "y = 5\n",
        "\n",
        "z = x//y\n",
        "\n",
        "print(z)"
      ],
      "metadata": {
        "colab": {
          "base_uri": "https://localhost:8080/"
        },
        "id": "4_MutLhPVXK-",
        "outputId": "c88310ed-472d-4a80-cf0e-a21b1efa1f06"
      },
      "execution_count": 26,
      "outputs": [
        {
          "output_type": "stream",
          "name": "stdout",
          "text": [
            "2\n"
          ]
        }
      ]
    },
    {
      "cell_type": "code",
      "source": [
        "## Arithmetic operator Operation\n",
        "\n",
        "a=5+6-7*8/9%10\n",
        "b=5+6-7/3+2\n",
        "c=(2+3)/5%2+5%4+2\n",
        "d=2//3+5**2*0.5%2/5+2-10\n",
        "print(a)\n",
        "print(b)\n",
        "print(c)\n",
        "print(d)"
      ],
      "metadata": {
        "colab": {
          "base_uri": "https://localhost:8080/"
        },
        "id": "hqlTCy8gVcNP",
        "outputId": "d4359fc6-028a-4734-8a54-cb3ce8fcf5e9"
      },
      "execution_count": 27,
      "outputs": [
        {
          "output_type": "stream",
          "name": "stdout",
          "text": [
            "4.777777777777778\n",
            "10.666666666666666\n",
            "4.0\n",
            "-7.9\n"
          ]
        }
      ]
    },
    {
      "cell_type": "code",
      "source": [
        "x=20\n",
        "x/=4   # 20/4=5.0\n",
        "x+=5  # x+5 =5.5+5=10\n",
        "x-=4  # 10-4=6\n",
        "x%=3  # 6%3=0.0\n",
        "x=34  # x=34\n",
        "x**=2 # 34**2=1156\n",
        "print(x)\n",
        "x//=2 # 1156//2=578\n",
        "print(x)"
      ],
      "metadata": {
        "colab": {
          "base_uri": "https://localhost:8080/"
        },
        "id": "yigrXbzcVo8W",
        "outputId": "ecb5a4d8-b584-40ba-88bc-57ea3069ce20"
      },
      "execution_count": 29,
      "outputs": [
        {
          "output_type": "stream",
          "name": "stdout",
          "text": [
            "578\n"
          ]
        }
      ]
    },
    {
      "cell_type": "code",
      "source": [
        "x=5 #\n",
        "y=7\n",
        "x+=y  # 5+7=11\n",
        "y/=3  # 7/3=2.3333333333333335\n",
        "x%=y  # 11%2.3333333333333335=10.666666666666666\n",
        "y-=x  # 7-10.666666666666666=0.3333333333333334\n",
        "x*=2  # 10.666666666666666*2=21.333333333333332\n",
        "y%=x  # 0.3333333333333334%21.333333333333332=0.3333333333333334\n",
        "print(x)\n",
        "print(y)"
      ],
      "metadata": {
        "colab": {
          "base_uri": "https://localhost:8080/"
        },
        "id": "XOwGB4axXVFt",
        "outputId": "c07c164b-00f1-4ac5-93b2-562e89746740"
      },
      "execution_count": 30,
      "outputs": [
        {
          "output_type": "stream",
          "name": "stdout",
          "text": [
            "0.6666666666666652\n",
            "5.329070518200751e-15\n"
          ]
        }
      ]
    },
    {
      "cell_type": "markdown",
      "source": [
        "# Assignment Operators\n",
        "Assignment operators are used to assign a value to the variable."
      ],
      "metadata": {
        "id": "jTk0dExoYYwe"
      }
    },
    {
      "cell_type": "markdown",
      "source": [
        "\\## 1. Equals to (=) Operator\n",
        "Equals to (=) operator assigne the value of right hand operand to the left hand operand."
      ],
      "metadata": {
        "id": "QFyrPFapYZvv"
      }
    },
    {
      "cell_type": "code",
      "source": [
        "# Let's take an Example\n",
        "\n",
        "x = 7\n",
        "y = 3.65\n",
        "\n",
        "print(x)\n",
        "print(y)"
      ],
      "metadata": {
        "colab": {
          "base_uri": "https://localhost:8080/"
        },
        "id": "5-uA5yBBYjVf",
        "outputId": "80a8a546-69fe-4430-fdcc-4e5493e45bdc"
      },
      "execution_count": 31,
      "outputs": [
        {
          "output_type": "stream",
          "name": "stdout",
          "text": [
            "7\n",
            "3.65\n"
          ]
        }
      ]
    },
    {
      "cell_type": "markdown",
      "source": [
        "## 2. Add Equal to (+=) Operator\n",
        "Add equal to (+=) Operator adds right hand operand to the left hand operand and assign the result to the left hand operand.\n",
        "###  x+=y       x=x+y"
      ],
      "metadata": {
        "id": "dRgztG2UYsrU"
      }
    },
    {
      "cell_type": "code",
      "source": [
        "# Let's take an Example\n",
        "\n",
        "x = 7\n",
        "y = 4\n",
        "x+=y\n",
        "\n",
        "print(x, y)"
      ],
      "metadata": {
        "colab": {
          "base_uri": "https://localhost:8080/"
        },
        "id": "btopZD-qYt6u",
        "outputId": "bc41c7b6-d951-4016-d484-dd0db91833c6"
      },
      "execution_count": 33,
      "outputs": [
        {
          "output_type": "stream",
          "name": "stdout",
          "text": [
            "11 4\n"
          ]
        }
      ]
    },
    {
      "cell_type": "code",
      "source": [
        "# Let's take one more example\n",
        "\n",
        "x = 10\n",
        "x += 5\n",
        "\n",
        "print(x)"
      ],
      "metadata": {
        "colab": {
          "base_uri": "https://localhost:8080/"
        },
        "id": "l8T4O-j-Y1rE",
        "outputId": "11434963-9cef-4204-9e44-ba8573c791e2"
      },
      "execution_count": 34,
      "outputs": [
        {
          "output_type": "stream",
          "name": "stdout",
          "text": [
            "15\n"
          ]
        }
      ]
    },
    {
      "cell_type": "markdown",
      "source": [
        "## 3. Subtract Equal to (-=) Operator\n",
        "Subtract equal to (-=) operator subtracts right hand operand from the left hand operand and assign the result to the left hand operand.\n",
        "### x-=y  x=x-y"
      ],
      "metadata": {
        "id": "w_623ljMY4XN"
      }
    },
    {
      "cell_type": "code",
      "source": [
        "# Let's take an Example\n",
        "\n",
        "x = 45\n",
        "y = 12\n",
        "x-=y  # x=45-12\n",
        "x"
      ],
      "metadata": {
        "colab": {
          "base_uri": "https://localhost:8080/"
        },
        "id": "wxbtpz1RY7Iv",
        "outputId": "5408c671-27ff-45a4-8e7d-15bbd2a56685"
      },
      "execution_count": 36,
      "outputs": [
        {
          "output_type": "execute_result",
          "data": {
            "text/plain": [
              "33"
            ]
          },
          "metadata": {},
          "execution_count": 36
        }
      ]
    },
    {
      "cell_type": "markdown",
      "source": [
        "## 4. Mutliply Equal to (*=) Operator\n",
        "Multiply equal to (*=) operator multiplies right hand operand by left hand operand and assign the result to the left hand operand.\n",
        "### x*=y x=x*y"
      ],
      "metadata": {
        "id": "Y3cli1miZOdn"
      }
    },
    {
      "cell_type": "code",
      "source": [
        "# Let's take an Example\n",
        "\n",
        "x = 23\n",
        "y = 4\n",
        "x*=y  # x=23*4\n",
        "x\n"
      ],
      "metadata": {
        "colab": {
          "base_uri": "https://localhost:8080/"
        },
        "id": "Wq5z2MKfZQjH",
        "outputId": "bf94b352-d3be-4ab0-ecc2-d324263ba8ff"
      },
      "execution_count": 38,
      "outputs": [
        {
          "output_type": "execute_result",
          "data": {
            "text/plain": [
              "92"
            ]
          },
          "metadata": {},
          "execution_count": 38
        }
      ]
    },
    {
      "cell_type": "markdown",
      "source": [
        "## 5. Divide Equal to (/=) Operator\n",
        "Divide equal to (/=) operator divides left operand by right operand and assign the result to left hand operand.\n",
        "### x/=y    x=x/y"
      ],
      "metadata": {
        "id": "0lug7Jp4Zgeq"
      }
    },
    {
      "cell_type": "code",
      "source": [
        "# Let's take an Example\n",
        "\n",
        "x = 35\n",
        "y = 5\n",
        "\n",
        "x/=y  # x=35/5\n",
        "x\n",
        "\n",
        "print(x)"
      ],
      "metadata": {
        "colab": {
          "base_uri": "https://localhost:8080/"
        },
        "id": "ZNi22Kx5ZiEu",
        "outputId": "f41796aa-d686-4cb8-bb84-76e50f2037a5"
      },
      "execution_count": 39,
      "outputs": [
        {
          "output_type": "stream",
          "name": "stdout",
          "text": [
            "7.0\n"
          ]
        }
      ]
    },
    {
      "cell_type": "markdown",
      "source": [
        "\n",
        "# Comparison Operator\n",
        "Comparison operators are used to compare one value to another. The result of a comparison is a Boolean value, which can be either True or False."
      ],
      "metadata": {
        "id": "OUD0sDhJZvfm"
      }
    },
    {
      "cell_type": "markdown",
      "source": [
        "## 1. Equal to (==) Operator\n",
        "Equal to (==) operator checks whether the value of the operands are equal. If yes it returns True."
      ],
      "metadata": {
        "id": "s_VDwYBYZ2nl"
      }
    },
    {
      "cell_type": "code",
      "source": [
        "# let's take an example\n",
        "\n",
        "2==2"
      ],
      "metadata": {
        "colab": {
          "base_uri": "https://localhost:8080/"
        },
        "id": "X7cpo6m5Zx18",
        "outputId": "5a788ab5-88c6-4056-cd10-9342443fe3cc"
      },
      "execution_count": 40,
      "outputs": [
        {
          "output_type": "execute_result",
          "data": {
            "text/plain": [
              "True"
            ]
          },
          "metadata": {},
          "execution_count": 40
        }
      ]
    },
    {
      "cell_type": "code",
      "source": [
        "# let's take an example\n",
        "\n",
        "x = 7\n",
        "y = 6\n",
        "x==y"
      ],
      "metadata": {
        "colab": {
          "base_uri": "https://localhost:8080/"
        },
        "id": "_fktwt8laA7E",
        "outputId": "bbb69e38-8592-4e2e-a766-458f1a206b12"
      },
      "execution_count": 41,
      "outputs": [
        {
          "output_type": "execute_result",
          "data": {
            "text/plain": [
              "False"
            ]
          },
          "metadata": {},
          "execution_count": 41
        }
      ]
    },
    {
      "cell_type": "markdown",
      "source": [
        "## 2. Not Equal to (!=) Operator\n",
        "Not equal to (!=) operator checks If the values of the two operands are not equal, then the condition becomes true."
      ],
      "metadata": {
        "id": "J0UGd4YQaG92"
      }
    },
    {
      "cell_type": "code",
      "source": [
        "# let's take an example\n",
        "\n",
        "4!=7"
      ],
      "metadata": {
        "colab": {
          "base_uri": "https://localhost:8080/"
        },
        "id": "bHQehFYhaDeX",
        "outputId": "f31fee1b-d8c8-4fa6-889c-71d0e8729897"
      },
      "execution_count": 42,
      "outputs": [
        {
          "output_type": "execute_result",
          "data": {
            "text/plain": [
              "True"
            ]
          },
          "metadata": {},
          "execution_count": 42
        }
      ]
    },
    {
      "cell_type": "code",
      "source": [
        "# let's take an example\n",
        "\n",
        "x = 8\n",
        "y = 8\n",
        "x!=y"
      ],
      "metadata": {
        "colab": {
          "base_uri": "https://localhost:8080/"
        },
        "id": "2IT5TaO0aPmU",
        "outputId": "7d73c07b-33a6-4527-b339-cf3027ec2429"
      },
      "execution_count": 43,
      "outputs": [
        {
          "output_type": "execute_result",
          "data": {
            "text/plain": [
              "False"
            ]
          },
          "metadata": {},
          "execution_count": 43
        }
      ]
    },
    {
      "cell_type": "markdown",
      "source": [
        " ## 3. Greater than (>) Operator\n",
        "Greater than (>) operator checks If the value of the left operand is greater than the value of the right operand, then the condition becomes true."
      ],
      "metadata": {
        "id": "8PeodYv-aWTW"
      }
    },
    {
      "cell_type": "code",
      "source": [
        "# let's take an example\n",
        "\n",
        "5>9"
      ],
      "metadata": {
        "colab": {
          "base_uri": "https://localhost:8080/"
        },
        "id": "q-y3Ks-1aP_S",
        "outputId": "8cf34571-0ea5-447e-9d19-39d9ee7db728"
      },
      "execution_count": 44,
      "outputs": [
        {
          "output_type": "execute_result",
          "data": {
            "text/plain": [
              "False"
            ]
          },
          "metadata": {},
          "execution_count": 44
        }
      ]
    },
    {
      "cell_type": "code",
      "source": [
        "# let's take an example\n",
        "\n",
        "x = 34\n",
        "y = 12\n",
        "x>y"
      ],
      "metadata": {
        "colab": {
          "base_uri": "https://localhost:8080/"
        },
        "id": "_ohPOROKabVA",
        "outputId": "46f3158d-85d4-4f9d-90e5-7bc034b29a12"
      },
      "execution_count": 45,
      "outputs": [
        {
          "output_type": "execute_result",
          "data": {
            "text/plain": [
              "True"
            ]
          },
          "metadata": {},
          "execution_count": 45
        }
      ]
    },
    {
      "cell_type": "markdown",
      "source": [
        "## 4. Less than (<) Operator\n",
        "Less than (<) operator checks If the value of the left operand is less than the value of the right operand, then the condition becomes true."
      ],
      "metadata": {
        "id": "YEOfuvgmajke"
      }
    },
    {
      "cell_type": "code",
      "source": [
        "# let's take an example\n",
        "\n",
        "6<10"
      ],
      "metadata": {
        "colab": {
          "base_uri": "https://localhost:8080/"
        },
        "id": "x4qa1HGsafOn",
        "outputId": "fe16050d-6e73-421c-cac7-efb372cd8ce5"
      },
      "execution_count": 46,
      "outputs": [
        {
          "output_type": "execute_result",
          "data": {
            "text/plain": [
              "True"
            ]
          },
          "metadata": {},
          "execution_count": 46
        }
      ]
    },
    {
      "cell_type": "code",
      "source": [
        "# let's take an example\n",
        "\n",
        "x = 87\n",
        "y = 10\n",
        "\n",
        "x<y"
      ],
      "metadata": {
        "colab": {
          "base_uri": "https://localhost:8080/"
        },
        "id": "dpCJ6Jv5agDd",
        "outputId": "50d58e9b-0bf6-4fe5-e371-3680a7ab1638"
      },
      "execution_count": 47,
      "outputs": [
        {
          "output_type": "execute_result",
          "data": {
            "text/plain": [
              "False"
            ]
          },
          "metadata": {},
          "execution_count": 47
        }
      ]
    },
    {
      "cell_type": "markdown",
      "source": [
        "## 5. Greater than equal to (>=) Operator\n",
        "Greater than equal to (>=) operator checks If the value of the left operand is greater than or equal to the value of the right operand, then the condition becomes true."
      ],
      "metadata": {
        "id": "21WU7ftTavvt"
      }
    },
    {
      "cell_type": "code",
      "source": [
        "# let's take an example\n",
        "\n",
        "4>=5"
      ],
      "metadata": {
        "colab": {
          "base_uri": "https://localhost:8080/"
        },
        "id": "T2jhRZRIawmG",
        "outputId": "ff42f0ec-1fd0-4c5f-fbc4-7dbee362420b"
      },
      "execution_count": 48,
      "outputs": [
        {
          "output_type": "execute_result",
          "data": {
            "text/plain": [
              "False"
            ]
          },
          "metadata": {},
          "execution_count": 48
        }
      ]
    },
    {
      "cell_type": "code",
      "source": [
        "# let's take an example\n",
        "\n",
        "x = 76\n",
        "y = 36\n",
        "x>=y"
      ],
      "metadata": {
        "colab": {
          "base_uri": "https://localhost:8080/"
        },
        "id": "R-v_fkWxa1mv",
        "outputId": "ce8e86f2-9f16-4861-eabd-324e2a99d250"
      },
      "execution_count": 49,
      "outputs": [
        {
          "output_type": "execute_result",
          "data": {
            "text/plain": [
              "True"
            ]
          },
          "metadata": {},
          "execution_count": 49
        }
      ]
    },
    {
      "cell_type": "markdown",
      "source": [
        "## 6. Less than equal to (<=) Operator\n",
        "Less than equal to (<=) operator  checks If the value of the left operand is less than or equal to the value of the right operand, then the condition becomes true."
      ],
      "metadata": {
        "id": "hdVZmXO3a9ov"
      }
    },
    {
      "cell_type": "code",
      "source": [
        "# let's take an example\n",
        "\n",
        "12<=13"
      ],
      "metadata": {
        "colab": {
          "base_uri": "https://localhost:8080/"
        },
        "id": "b-1d6KcVa-jA",
        "outputId": "c5069d65-f48e-43ca-f468-609069d7955f"
      },
      "execution_count": 50,
      "outputs": [
        {
          "output_type": "execute_result",
          "data": {
            "text/plain": [
              "True"
            ]
          },
          "metadata": {},
          "execution_count": 50
        }
      ]
    },
    {
      "cell_type": "code",
      "source": [
        "# let's take an example\n",
        "\n",
        "x = 87\n",
        "y = 76\n",
        "x<=y"
      ],
      "metadata": {
        "colab": {
          "base_uri": "https://localhost:8080/"
        },
        "id": "56fbID-jbCw9",
        "outputId": "09240ff6-3787-4d19-e415-1a2556d199df"
      },
      "execution_count": 51,
      "outputs": [
        {
          "output_type": "execute_result",
          "data": {
            "text/plain": [
              "False"
            ]
          },
          "metadata": {},
          "execution_count": 51
        }
      ]
    },
    {
      "cell_type": "markdown",
      "source": [
        "# Logical Operator\n",
        "Logical operators are used to combine conditional statements."
      ],
      "metadata": {
        "id": "kZxLgDO_bNWI"
      }
    },
    {
      "cell_type": "markdown",
      "source": [
        "## 1. AND Operator\n",
        "And operator Returns True if both statements are true."
      ],
      "metadata": {
        "id": "bOyj-WewbR5m"
      }
    },
    {
      "cell_type": "code",
      "source": [
        "# let's take an example\n",
        "\n",
        "x = 6\n",
        "x < 10 and x > 1"
      ],
      "metadata": {
        "colab": {
          "base_uri": "https://localhost:8080/"
        },
        "id": "lQGJap03agGw",
        "outputId": "8419b427-a65f-4f7e-b46e-c0048e0aa292"
      },
      "execution_count": 52,
      "outputs": [
        {
          "output_type": "execute_result",
          "data": {
            "text/plain": [
              "True"
            ]
          },
          "metadata": {},
          "execution_count": 52
        }
      ]
    },
    {
      "cell_type": "markdown",
      "source": [
        "## 2. OR Operator\n",
        "OR operator Returns True if one of the statements is true."
      ],
      "metadata": {
        "id": "bLJ_PjEwbo1e"
      }
    },
    {
      "cell_type": "code",
      "source": [
        "# let's take an example\n",
        "\n",
        "x = 8\n",
        "x<10 or x>12"
      ],
      "metadata": {
        "colab": {
          "base_uri": "https://localhost:8080/"
        },
        "id": "vpqtjt8HbmAc",
        "outputId": "95c42dd9-3647-43e3-dac6-d941947016f2"
      },
      "execution_count": 53,
      "outputs": [
        {
          "output_type": "execute_result",
          "data": {
            "text/plain": [
              "True"
            ]
          },
          "metadata": {},
          "execution_count": 53
        }
      ]
    },
    {
      "cell_type": "markdown",
      "source": [
        "## 3. NOT Operator\n",
        "NOT operator Reverse the logical state of the operand.**bold text**"
      ],
      "metadata": {
        "id": "3_VZdc38bw20"
      }
    },
    {
      "cell_type": "code",
      "source": [
        "# let's take an example\n",
        "\n",
        "a = True\n",
        "not a"
      ],
      "metadata": {
        "colab": {
          "base_uri": "https://localhost:8080/"
        },
        "id": "qgeq476abxxE",
        "outputId": "40704fba-8af6-42dc-cbe0-6bbc1d1824b4"
      },
      "execution_count": 54,
      "outputs": [
        {
          "output_type": "execute_result",
          "data": {
            "text/plain": [
              "False"
            ]
          },
          "metadata": {},
          "execution_count": 54
        }
      ]
    },
    {
      "cell_type": "code",
      "source": [
        "print(10>30 and 20>10) or (10<20 and 20>10)"
      ],
      "metadata": {
        "colab": {
          "base_uri": "https://localhost:8080/"
        },
        "id": "Db0TgeATb4zP",
        "outputId": "ee520d66-735c-4ab6-ea91-a1681271970b"
      },
      "execution_count": 55,
      "outputs": [
        {
          "output_type": "stream",
          "name": "stdout",
          "text": [
            "False\n"
          ]
        },
        {
          "output_type": "execute_result",
          "data": {
            "text/plain": [
              "True"
            ]
          },
          "metadata": {},
          "execution_count": 55
        }
      ]
    },
    {
      "cell_type": "code",
      "source": [
        "print(10<20 and 20>10) or (10<20 and 20>10)"
      ],
      "metadata": {
        "colab": {
          "base_uri": "https://localhost:8080/"
        },
        "id": "zK1qYOi4b424",
        "outputId": "1492efb7-1689-480f-a65a-3b735cbc3112"
      },
      "execution_count": 56,
      "outputs": [
        {
          "output_type": "stream",
          "name": "stdout",
          "text": [
            "True\n"
          ]
        },
        {
          "output_type": "execute_result",
          "data": {
            "text/plain": [
              "True"
            ]
          },
          "metadata": {},
          "execution_count": 56
        }
      ]
    },
    {
      "cell_type": "code",
      "source": [
        "print(10<20 and 20>10) or (10>20 and 20>10)"
      ],
      "metadata": {
        "colab": {
          "base_uri": "https://localhost:8080/"
        },
        "id": "PSQ-UmiDcUlG",
        "outputId": "03d41c18-da25-4a8f-b91c-09305d81941d"
      },
      "execution_count": 58,
      "outputs": [
        {
          "output_type": "stream",
          "name": "stdout",
          "text": [
            "True\n"
          ]
        },
        {
          "output_type": "execute_result",
          "data": {
            "text/plain": [
              "False"
            ]
          },
          "metadata": {},
          "execution_count": 58
        }
      ]
    },
    {
      "cell_type": "code",
      "source": [
        "print(10>20 and 20>10) or (10>20 and 20<10)"
      ],
      "metadata": {
        "colab": {
          "base_uri": "https://localhost:8080/"
        },
        "id": "E8NF8kiLcf7P",
        "outputId": "c86f1b83-5d33-471a-da63-5da003c868c0"
      },
      "execution_count": 61,
      "outputs": [
        {
          "output_type": "stream",
          "name": "stdout",
          "text": [
            "False\n"
          ]
        },
        {
          "output_type": "execute_result",
          "data": {
            "text/plain": [
              "False"
            ]
          },
          "metadata": {},
          "execution_count": 61
        }
      ]
    },
    {
      "cell_type": "code",
      "source": [
        "print(not 20>10)"
      ],
      "metadata": {
        "colab": {
          "base_uri": "https://localhost:8080/"
        },
        "id": "d0J6-JtQcsrl",
        "outputId": "40e77c9c-faab-4ccd-d1fe-d1f8c1f11969"
      },
      "execution_count": 62,
      "outputs": [
        {
          "output_type": "stream",
          "name": "stdout",
          "text": [
            "False\n"
          ]
        }
      ]
    },
    {
      "cell_type": "code",
      "source": [
        "print(not 20<10)"
      ],
      "metadata": {
        "colab": {
          "base_uri": "https://localhost:8080/"
        },
        "id": "g2-WZJTnb4-K",
        "outputId": "517c5606-1c24-4ea5-c39a-d027a70cbf7d"
      },
      "execution_count": 63,
      "outputs": [
        {
          "output_type": "stream",
          "name": "stdout",
          "text": [
            "True\n"
          ]
        }
      ]
    },
    {
      "cell_type": "markdown",
      "source": [
        "# Membership Operator"
      ],
      "metadata": {
        "id": "DCyOtU47c43t"
      }
    },
    {
      "cell_type": "markdown",
      "source": [
        " 1. in Operator\n",
        "in operator returns True if a sequence with the specified value is present in the object"
      ],
      "metadata": {
        "id": "fc79aVusdCjv"
      }
    },
    {
      "cell_type": "code",
      "source": [
        "# Membership operators are used to test if a sequence is presented in an object\n",
        "# 1. in Operator\n",
        "# in operator checks if the value is present in the sequence.\n",
        "# let's take an example\n",
        "x = \"Welcome to Simplilearn\"\n",
        "print(\"Simplilearn\" in x)\n",
        "\n",
        "# 2. not in Operator\n",
        "# not in operator checks if the value is not present in the sequence.\n",
        "# let's take an example\n",
        "y = \"Data Science with Python\"\n",
        "print(\"Machine Learning\" not in y)\n"
      ],
      "metadata": {
        "id": "ZvibLmvCc9vQ"
      },
      "execution_count": null,
      "outputs": []
    },
    {
      "cell_type": "markdown",
      "source": [
        "# Identity Operator"
      ],
      "metadata": {
        "id": "9k4OnoT1dXKg"
      }
    },
    {
      "cell_type": "code",
      "source": [
        "# Identity operators are used to compare the objects, not if they are equal, but if they are actually the same object, with the same memory location:\n",
        "\n",
        "# 1. is Operator\n",
        "# is operator returns True if both variables are the same object\n",
        "# let's take an example\n",
        "x = [\"apple\", \"banana\"]\n",
        "y = [\"apple\", \"banana\"]\n",
        "z = x\n",
        "\n",
        "print(x is z)\n",
        "\n",
        "# returns True because z is the same object as x\n",
        "\n",
        "print(x is y)\n",
        "\n",
        "# returns False because x is not the same object as y, even if they have the same content\n",
        "\n",
        "print(x == y)\n",
        "\n",
        "# to demonstrate the difference betweeen \"is\" and \"==\": this comparison returns True because x is equal to y\n",
        "\n",
        "# 2. is not Operator\n",
        "# is not operator returns True if both variables are not the same object\n",
        "# let's take an example\n",
        "x = [\"apple\", \"banana\"]\n",
        "y = [\"apple\", \"banana\"]\n",
        "z = x\n",
        "\n",
        "print(x is not z)\n",
        "\n",
        "# returns False because z is the same object as x\n",
        "\n",
        "print(x is not y)\n",
        "\n",
        "# returns True because x is not the same object as y, even if they have the same content\n",
        "\n",
        "print(x != y)\n",
        "\n",
        "# to demonstrate the difference betweeen \"is not\" and \"!=\": this comparison returns False because x is equal to y"
      ],
      "metadata": {
        "colab": {
          "base_uri": "https://localhost:8080/"
        },
        "id": "ZwVqYkc8eBMu",
        "outputId": "96e22cbc-2037-4e2e-916d-07c812a22e94"
      },
      "execution_count": 64,
      "outputs": [
        {
          "output_type": "stream",
          "name": "stdout",
          "text": [
            "True\n",
            "False\n",
            "True\n",
            "False\n",
            "True\n",
            "False\n"
          ]
        }
      ]
    },
    {
      "cell_type": "markdown",
      "source": [
        "# Bitwise Operator"
      ],
      "metadata": {
        "id": "1CWW6dQpeIj2"
      }
    },
    {
      "cell_type": "code",
      "source": [
        "# Bitwise Operators\n",
        "# Bitwise operators act on operands as if they were strings of binary digits. They operate bit by bit, hence the name.\n",
        "\n",
        "# 1. Bitwise AND (&)\n",
        "# Sets each bit to 1 if both bits are 1\n",
        "a = 10  # Binary: 1010\n",
        "b = 4   # Binary: 0100\n",
        "result_and = a & b  # Binary: 0000 (Decimal: 0)\n",
        "print(result_and)\n",
        "\n",
        "# 2. Bitwise OR (|)\n",
        "# Sets each bit to 1 if one of two bits is 1\n",
        "a = 10  # Binary: 1010\n",
        "b = 4   # Binary: 0100\n",
        "result_or = a | b  # Binary: 1110 (Decimal: 14)\n",
        "print(result_or)\n",
        "\n",
        "# 3. Bitwise XOR (^)\n",
        "# Sets each bit to 1 if only one of two bits is 1\n",
        "a = 10  # Binary: 1010\n",
        "b = 4   # Binary: 0100\n",
        "result_xor = a ^ b  # Binary: 1110 (Decimal: 14)\n",
        "print(result_xor)\n",
        "\n",
        "# 4. Bitwise NOT (~)\n",
        "# Inverts all the bits\n",
        "a = 10  # Binary: 1010\n",
        "result_not = ~a  # Binary: -1011 (Decimal: -11)\n",
        "print(result_not)\n",
        "\n",
        "# 5. Left Shift (<<)\n",
        "# Shifts the bits of the number to the left, and fills 0 on the right side\n",
        "a = 10  # Binary: 1010\n",
        "result_left_shift = a << 2  # Binary: 101000 (Decimal: 40)\n",
        "print(result_left_shift)\n",
        "\n",
        "# 6. Right Shift (>>)\n",
        "# Shifts the bits of the number to the right, and fills 0 on the left side\n",
        "a = 10  # Binary: 1010\n",
        "result_right_shift = a >> 2  # Binary: 0010 (Decimal: 2)\n",
        "print(result_right_shift)"
      ],
      "metadata": {
        "colab": {
          "base_uri": "https://localhost:8080/"
        },
        "id": "OwDYAnKseQQt",
        "outputId": "b660e6f1-15f1-45f9-9461-da5cfabbcd07"
      },
      "execution_count": 65,
      "outputs": [
        {
          "output_type": "stream",
          "name": "stdout",
          "text": [
            "0\n",
            "14\n",
            "14\n",
            "-11\n",
            "40\n",
            "2\n"
          ]
        }
      ]
    },
    {
      "cell_type": "code",
      "source": [],
      "metadata": {
        "id": "qJs41ZT_eQUk"
      },
      "execution_count": null,
      "outputs": []
    },
    {
      "cell_type": "code",
      "source": [],
      "metadata": {
        "id": "i6xISJbSeeSc"
      },
      "execution_count": null,
      "outputs": []
    },
    {
      "cell_type": "code",
      "source": [],
      "metadata": {
        "id": "-DSWP29AeeXV"
      },
      "execution_count": null,
      "outputs": []
    },
    {
      "cell_type": "code",
      "source": [],
      "metadata": {
        "id": "ziiKYGqEeeal"
      },
      "execution_count": null,
      "outputs": []
    },
    {
      "cell_type": "code",
      "source": [],
      "metadata": {
        "id": "JWOUiUbDeQaq"
      },
      "execution_count": null,
      "outputs": []
    }
  ]
}